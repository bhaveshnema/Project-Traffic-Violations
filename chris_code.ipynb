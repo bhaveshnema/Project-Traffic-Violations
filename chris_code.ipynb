{
 "cells": [
  {
   "cell_type": "code",
   "execution_count": 3,
   "metadata": {
    "_cell_guid": "0060301f-083b-4e3e-86e5-91c862f26777",
    "_uuid": "528f407cc4b7ba3781e78778b00f9e4cfac09e42"
   },
   "outputs": [],
   "source": [
    "# Importing libraries\n",
    "import re\n",
    "import warnings\n",
    "import pandas as pd\n",
    "import numpy as np\n",
    "import seaborn as sns\n",
    "#from mpl_toolkits.basemap import Basemap\n",
    "import matplotlib.pyplot as plt\n",
    "pd.options.display.max_columns = 50\n",
    "%matplotlib inline\n",
    "warnings.filterwarnings(\"ignore\")\n",
    "sns.set_style(\"darkgrid\")\n",
    "figsize = (16,8)"
   ]
  },
  {
   "cell_type": "code",
   "execution_count": 4,
   "metadata": {
    "_cell_guid": "a7ae423d-de7c-41a3-a9ba-4d09474687b9",
    "_uuid": "408b5ed5cb17d2ff176f2eec30ddca66aa9146d5",
    "scrolled": false
   },
   "outputs": [
    {
     "ename": "FileNotFoundError",
     "evalue": "File b'Resource/Traffic_Violations.csv' does not exist",
     "output_type": "error",
     "traceback": [
      "\u001b[1;31m---------------------------------------------------------------------------\u001b[0m",
      "\u001b[1;31mFileNotFoundError\u001b[0m                         Traceback (most recent call last)",
      "\u001b[1;32m<ipython-input-4-12caf4f55f43>\u001b[0m in \u001b[0;36m<module>\u001b[1;34m\u001b[0m\n\u001b[0;32m      1\u001b[0m \u001b[1;31m# Importing the dataset\u001b[0m\u001b[1;33m\u001b[0m\u001b[1;33m\u001b[0m\u001b[1;33m\u001b[0m\u001b[0m\n\u001b[1;32m----> 2\u001b[1;33m \u001b[0mdf\u001b[0m \u001b[1;33m=\u001b[0m \u001b[0mpd\u001b[0m\u001b[1;33m.\u001b[0m\u001b[0mread_csv\u001b[0m\u001b[1;33m(\u001b[0m\u001b[1;34m'Resource/Traffic_Violations.csv'\u001b[0m\u001b[1;33m,\u001b[0m \u001b[0mlow_memory\u001b[0m\u001b[1;33m=\u001b[0m\u001b[1;32mFalse\u001b[0m\u001b[1;33m)\u001b[0m\u001b[1;33m\u001b[0m\u001b[1;33m\u001b[0m\u001b[0m\n\u001b[0m\u001b[0;32m      3\u001b[0m \u001b[1;31m# Giving the dimension information\u001b[0m\u001b[1;33m\u001b[0m\u001b[1;33m\u001b[0m\u001b[1;33m\u001b[0m\u001b[0m\n\u001b[0;32m      4\u001b[0m \u001b[0mprint\u001b[0m\u001b[1;33m(\u001b[0m\u001b[1;34m'Dataframe dimensions:'\u001b[0m\u001b[1;33m,\u001b[0m \u001b[0mdf\u001b[0m\u001b[1;33m.\u001b[0m\u001b[0mshape\u001b[0m\u001b[1;33m)\u001b[0m\u001b[1;33m\u001b[0m\u001b[1;33m\u001b[0m\u001b[0m\n\u001b[0;32m      5\u001b[0m \u001b[1;31m#____________________________________________________________\u001b[0m\u001b[1;33m\u001b[0m\u001b[1;33m\u001b[0m\u001b[1;33m\u001b[0m\u001b[0m\n",
      "\u001b[1;32m~\\Anaconda3\\envs\\PythonData\\lib\\site-packages\\pandas\\io\\parsers.py\u001b[0m in \u001b[0;36mparser_f\u001b[1;34m(filepath_or_buffer, sep, delimiter, header, names, index_col, usecols, squeeze, prefix, mangle_dupe_cols, dtype, engine, converters, true_values, false_values, skipinitialspace, skiprows, nrows, na_values, keep_default_na, na_filter, verbose, skip_blank_lines, parse_dates, infer_datetime_format, keep_date_col, date_parser, dayfirst, iterator, chunksize, compression, thousands, decimal, lineterminator, quotechar, quoting, escapechar, comment, encoding, dialect, tupleize_cols, error_bad_lines, warn_bad_lines, skipfooter, doublequote, delim_whitespace, low_memory, memory_map, float_precision)\u001b[0m\n\u001b[0;32m    676\u001b[0m                     skip_blank_lines=skip_blank_lines)\n\u001b[0;32m    677\u001b[0m \u001b[1;33m\u001b[0m\u001b[0m\n\u001b[1;32m--> 678\u001b[1;33m         \u001b[1;32mreturn\u001b[0m \u001b[0m_read\u001b[0m\u001b[1;33m(\u001b[0m\u001b[0mfilepath_or_buffer\u001b[0m\u001b[1;33m,\u001b[0m \u001b[0mkwds\u001b[0m\u001b[1;33m)\u001b[0m\u001b[1;33m\u001b[0m\u001b[1;33m\u001b[0m\u001b[0m\n\u001b[0m\u001b[0;32m    679\u001b[0m \u001b[1;33m\u001b[0m\u001b[0m\n\u001b[0;32m    680\u001b[0m     \u001b[0mparser_f\u001b[0m\u001b[1;33m.\u001b[0m\u001b[0m__name__\u001b[0m \u001b[1;33m=\u001b[0m \u001b[0mname\u001b[0m\u001b[1;33m\u001b[0m\u001b[1;33m\u001b[0m\u001b[0m\n",
      "\u001b[1;32m~\\Anaconda3\\envs\\PythonData\\lib\\site-packages\\pandas\\io\\parsers.py\u001b[0m in \u001b[0;36m_read\u001b[1;34m(filepath_or_buffer, kwds)\u001b[0m\n\u001b[0;32m    438\u001b[0m \u001b[1;33m\u001b[0m\u001b[0m\n\u001b[0;32m    439\u001b[0m     \u001b[1;31m# Create the parser.\u001b[0m\u001b[1;33m\u001b[0m\u001b[1;33m\u001b[0m\u001b[1;33m\u001b[0m\u001b[0m\n\u001b[1;32m--> 440\u001b[1;33m     \u001b[0mparser\u001b[0m \u001b[1;33m=\u001b[0m \u001b[0mTextFileReader\u001b[0m\u001b[1;33m(\u001b[0m\u001b[0mfilepath_or_buffer\u001b[0m\u001b[1;33m,\u001b[0m \u001b[1;33m**\u001b[0m\u001b[0mkwds\u001b[0m\u001b[1;33m)\u001b[0m\u001b[1;33m\u001b[0m\u001b[1;33m\u001b[0m\u001b[0m\n\u001b[0m\u001b[0;32m    441\u001b[0m \u001b[1;33m\u001b[0m\u001b[0m\n\u001b[0;32m    442\u001b[0m     \u001b[1;32mif\u001b[0m \u001b[0mchunksize\u001b[0m \u001b[1;32mor\u001b[0m \u001b[0miterator\u001b[0m\u001b[1;33m:\u001b[0m\u001b[1;33m\u001b[0m\u001b[1;33m\u001b[0m\u001b[0m\n",
      "\u001b[1;32m~\\Anaconda3\\envs\\PythonData\\lib\\site-packages\\pandas\\io\\parsers.py\u001b[0m in \u001b[0;36m__init__\u001b[1;34m(self, f, engine, **kwds)\u001b[0m\n\u001b[0;32m    785\u001b[0m             \u001b[0mself\u001b[0m\u001b[1;33m.\u001b[0m\u001b[0moptions\u001b[0m\u001b[1;33m[\u001b[0m\u001b[1;34m'has_index_names'\u001b[0m\u001b[1;33m]\u001b[0m \u001b[1;33m=\u001b[0m \u001b[0mkwds\u001b[0m\u001b[1;33m[\u001b[0m\u001b[1;34m'has_index_names'\u001b[0m\u001b[1;33m]\u001b[0m\u001b[1;33m\u001b[0m\u001b[1;33m\u001b[0m\u001b[0m\n\u001b[0;32m    786\u001b[0m \u001b[1;33m\u001b[0m\u001b[0m\n\u001b[1;32m--> 787\u001b[1;33m         \u001b[0mself\u001b[0m\u001b[1;33m.\u001b[0m\u001b[0m_make_engine\u001b[0m\u001b[1;33m(\u001b[0m\u001b[0mself\u001b[0m\u001b[1;33m.\u001b[0m\u001b[0mengine\u001b[0m\u001b[1;33m)\u001b[0m\u001b[1;33m\u001b[0m\u001b[1;33m\u001b[0m\u001b[0m\n\u001b[0m\u001b[0;32m    788\u001b[0m \u001b[1;33m\u001b[0m\u001b[0m\n\u001b[0;32m    789\u001b[0m     \u001b[1;32mdef\u001b[0m \u001b[0mclose\u001b[0m\u001b[1;33m(\u001b[0m\u001b[0mself\u001b[0m\u001b[1;33m)\u001b[0m\u001b[1;33m:\u001b[0m\u001b[1;33m\u001b[0m\u001b[1;33m\u001b[0m\u001b[0m\n",
      "\u001b[1;32m~\\Anaconda3\\envs\\PythonData\\lib\\site-packages\\pandas\\io\\parsers.py\u001b[0m in \u001b[0;36m_make_engine\u001b[1;34m(self, engine)\u001b[0m\n\u001b[0;32m   1012\u001b[0m     \u001b[1;32mdef\u001b[0m \u001b[0m_make_engine\u001b[0m\u001b[1;33m(\u001b[0m\u001b[0mself\u001b[0m\u001b[1;33m,\u001b[0m \u001b[0mengine\u001b[0m\u001b[1;33m=\u001b[0m\u001b[1;34m'c'\u001b[0m\u001b[1;33m)\u001b[0m\u001b[1;33m:\u001b[0m\u001b[1;33m\u001b[0m\u001b[1;33m\u001b[0m\u001b[0m\n\u001b[0;32m   1013\u001b[0m         \u001b[1;32mif\u001b[0m \u001b[0mengine\u001b[0m \u001b[1;33m==\u001b[0m \u001b[1;34m'c'\u001b[0m\u001b[1;33m:\u001b[0m\u001b[1;33m\u001b[0m\u001b[1;33m\u001b[0m\u001b[0m\n\u001b[1;32m-> 1014\u001b[1;33m             \u001b[0mself\u001b[0m\u001b[1;33m.\u001b[0m\u001b[0m_engine\u001b[0m \u001b[1;33m=\u001b[0m \u001b[0mCParserWrapper\u001b[0m\u001b[1;33m(\u001b[0m\u001b[0mself\u001b[0m\u001b[1;33m.\u001b[0m\u001b[0mf\u001b[0m\u001b[1;33m,\u001b[0m \u001b[1;33m**\u001b[0m\u001b[0mself\u001b[0m\u001b[1;33m.\u001b[0m\u001b[0moptions\u001b[0m\u001b[1;33m)\u001b[0m\u001b[1;33m\u001b[0m\u001b[1;33m\u001b[0m\u001b[0m\n\u001b[0m\u001b[0;32m   1015\u001b[0m         \u001b[1;32melse\u001b[0m\u001b[1;33m:\u001b[0m\u001b[1;33m\u001b[0m\u001b[1;33m\u001b[0m\u001b[0m\n\u001b[0;32m   1016\u001b[0m             \u001b[1;32mif\u001b[0m \u001b[0mengine\u001b[0m \u001b[1;33m==\u001b[0m \u001b[1;34m'python'\u001b[0m\u001b[1;33m:\u001b[0m\u001b[1;33m\u001b[0m\u001b[1;33m\u001b[0m\u001b[0m\n",
      "\u001b[1;32m~\\Anaconda3\\envs\\PythonData\\lib\\site-packages\\pandas\\io\\parsers.py\u001b[0m in \u001b[0;36m__init__\u001b[1;34m(self, src, **kwds)\u001b[0m\n\u001b[0;32m   1706\u001b[0m         \u001b[0mkwds\u001b[0m\u001b[1;33m[\u001b[0m\u001b[1;34m'usecols'\u001b[0m\u001b[1;33m]\u001b[0m \u001b[1;33m=\u001b[0m \u001b[0mself\u001b[0m\u001b[1;33m.\u001b[0m\u001b[0musecols\u001b[0m\u001b[1;33m\u001b[0m\u001b[1;33m\u001b[0m\u001b[0m\n\u001b[0;32m   1707\u001b[0m \u001b[1;33m\u001b[0m\u001b[0m\n\u001b[1;32m-> 1708\u001b[1;33m         \u001b[0mself\u001b[0m\u001b[1;33m.\u001b[0m\u001b[0m_reader\u001b[0m \u001b[1;33m=\u001b[0m \u001b[0mparsers\u001b[0m\u001b[1;33m.\u001b[0m\u001b[0mTextReader\u001b[0m\u001b[1;33m(\u001b[0m\u001b[0msrc\u001b[0m\u001b[1;33m,\u001b[0m \u001b[1;33m**\u001b[0m\u001b[0mkwds\u001b[0m\u001b[1;33m)\u001b[0m\u001b[1;33m\u001b[0m\u001b[1;33m\u001b[0m\u001b[0m\n\u001b[0m\u001b[0;32m   1709\u001b[0m \u001b[1;33m\u001b[0m\u001b[0m\n\u001b[0;32m   1710\u001b[0m         \u001b[0mpassed_names\u001b[0m \u001b[1;33m=\u001b[0m \u001b[0mself\u001b[0m\u001b[1;33m.\u001b[0m\u001b[0mnames\u001b[0m \u001b[1;32mis\u001b[0m \u001b[1;32mNone\u001b[0m\u001b[1;33m\u001b[0m\u001b[1;33m\u001b[0m\u001b[0m\n",
      "\u001b[1;32mpandas\\_libs\\parsers.pyx\u001b[0m in \u001b[0;36mpandas._libs.parsers.TextReader.__cinit__\u001b[1;34m()\u001b[0m\n",
      "\u001b[1;32mpandas\\_libs\\parsers.pyx\u001b[0m in \u001b[0;36mpandas._libs.parsers.TextReader._setup_parser_source\u001b[1;34m()\u001b[0m\n",
      "\u001b[1;31mFileNotFoundError\u001b[0m: File b'Resource/Traffic_Violations.csv' does not exist"
     ]
    }
   ],
   "source": [
    "# Importing the dataset\n",
    "df = pd.read_csv('Resource/Traffic_Violations.csv', low_memory=False)\n",
    "# Giving the dimension information\n",
    "print('Dataframe dimensions:', df.shape)\n",
    "#____________________________________________________________\n",
    "# Giving some infos on columns types and number of null values\n",
    "tab_info=pd.DataFrame(df.dtypes).T.rename(index={0:'column type'})\n",
    "tab_info=tab_info.append(pd.DataFrame(df.isnull().sum()).T.rename(index={0:'null values (nb)'}))\n",
    "tab_info=tab_info.append(pd.DataFrame(df.isnull().sum()/df.shape[0]*100)\n",
    "                         .T.rename(index={0:'null values (%)'}))\n",
    "tab_info"
   ]
  },
  {
   "cell_type": "code",
   "execution_count": 3,
   "metadata": {},
   "outputs": [
    {
     "data": {
      "text/plain": [
       "Index(['Date Of Stop', 'Time Of Stop', 'Agency', 'SubAgency', 'Description',\n",
       "       'Location', 'Latitude', 'Longitude', 'Accident', 'Belts',\n",
       "       'Personal Injury', 'Property Damage', 'Fatal', 'Commercial License',\n",
       "       'HAZMAT', 'Commercial Vehicle', 'Alcohol', 'Work Zone', 'State',\n",
       "       'VehicleType', 'Year', 'Make', 'Model', 'Color', 'Violation Type',\n",
       "       'Charge', 'Article', 'Contributed To Accident', 'Race', 'Gender',\n",
       "       'Driver City', 'Driver State', 'DL State', 'Arrest Type',\n",
       "       'Geolocation'],\n",
       "      dtype='object')"
      ]
     },
     "execution_count": 3,
     "metadata": {},
     "output_type": "execute_result"
    }
   ],
   "source": [
    "#list available fields\n",
    "df.columns"
   ]
  },
  {
   "cell_type": "code",
   "execution_count": 4,
   "metadata": {},
   "outputs": [],
   "source": [
    "#data = df.dropna(subset=[‘Geolocation’])\n",
    "\n",
    "#data = df.dropna(axis=0, how='any', thresh=None, subset=['Geolocation'], inplace=False)\n",
    "#data.count()"
   ]
  },
  {
   "cell_type": "code",
   "execution_count": 5,
   "metadata": {},
   "outputs": [
    {
     "data": {
      "text/html": [
       "<div>\n",
       "<style scoped>\n",
       "    .dataframe tbody tr th:only-of-type {\n",
       "        vertical-align: middle;\n",
       "    }\n",
       "\n",
       "    .dataframe tbody tr th {\n",
       "        vertical-align: top;\n",
       "    }\n",
       "\n",
       "    .dataframe thead th {\n",
       "        text-align: right;\n",
       "    }\n",
       "</style>\n",
       "<table border=\"1\" class=\"dataframe\">\n",
       "  <thead>\n",
       "    <tr style=\"text-align: right;\">\n",
       "      <th></th>\n",
       "      <th>Date Of Stop</th>\n",
       "      <th>Time Of Stop</th>\n",
       "      <th>Agency</th>\n",
       "      <th>SubAgency</th>\n",
       "      <th>Description</th>\n",
       "      <th>Location</th>\n",
       "      <th>Latitude</th>\n",
       "      <th>Longitude</th>\n",
       "      <th>Accident</th>\n",
       "      <th>Belts</th>\n",
       "      <th>Personal Injury</th>\n",
       "      <th>Property Damage</th>\n",
       "      <th>Fatal</th>\n",
       "      <th>Commercial License</th>\n",
       "      <th>HAZMAT</th>\n",
       "      <th>Commercial Vehicle</th>\n",
       "      <th>Alcohol</th>\n",
       "      <th>Work Zone</th>\n",
       "      <th>State</th>\n",
       "      <th>VehicleType</th>\n",
       "      <th>Year</th>\n",
       "      <th>Make</th>\n",
       "      <th>Model</th>\n",
       "      <th>Color</th>\n",
       "      <th>Violation Type</th>\n",
       "      <th>Charge</th>\n",
       "      <th>Article</th>\n",
       "      <th>Contributed To Accident</th>\n",
       "      <th>Race</th>\n",
       "      <th>Gender</th>\n",
       "      <th>Driver City</th>\n",
       "      <th>Driver State</th>\n",
       "      <th>DL State</th>\n",
       "      <th>Arrest Type</th>\n",
       "      <th>Geolocation</th>\n",
       "    </tr>\n",
       "  </thead>\n",
       "  <tbody>\n",
       "    <tr>\n",
       "      <th>0</th>\n",
       "      <td>9/24/2013</td>\n",
       "      <td>17:11:00</td>\n",
       "      <td>MCP</td>\n",
       "      <td>3rd district, Silver Spring</td>\n",
       "      <td>DRIVING VEHICLE ON HIGHWAY WITH SUSPENDED REGI...</td>\n",
       "      <td>8804 FLOWER AVE</td>\n",
       "      <td>NaN</td>\n",
       "      <td>NaN</td>\n",
       "      <td>No</td>\n",
       "      <td>No</td>\n",
       "      <td>No</td>\n",
       "      <td>No</td>\n",
       "      <td>No</td>\n",
       "      <td>No</td>\n",
       "      <td>No</td>\n",
       "      <td>No</td>\n",
       "      <td>No</td>\n",
       "      <td>No</td>\n",
       "      <td>MD</td>\n",
       "      <td>02 - Automobile</td>\n",
       "      <td>2008.0</td>\n",
       "      <td>FORD</td>\n",
       "      <td>4S</td>\n",
       "      <td>BLACK</td>\n",
       "      <td>Citation</td>\n",
       "      <td>13-401(h)</td>\n",
       "      <td>Transportation Article</td>\n",
       "      <td>No</td>\n",
       "      <td>BLACK</td>\n",
       "      <td>M</td>\n",
       "      <td>TAKOMA PARK</td>\n",
       "      <td>MD</td>\n",
       "      <td>MD</td>\n",
       "      <td>A - Marked Patrol</td>\n",
       "      <td>NaN</td>\n",
       "    </tr>\n",
       "    <tr>\n",
       "      <th>2</th>\n",
       "      <td>12/1/2014</td>\n",
       "      <td>12:52:00</td>\n",
       "      <td>MCP</td>\n",
       "      <td>6th district, Gaithersburg / Montgomery Village</td>\n",
       "      <td>FAILURE STOP AND YIELD AT THRU HWY</td>\n",
       "      <td>CHRISTOPHER AVE/MONTGOMERY VILLAGE AVE</td>\n",
       "      <td>39.162888</td>\n",
       "      <td>-77.229088</td>\n",
       "      <td>No</td>\n",
       "      <td>No</td>\n",
       "      <td>No</td>\n",
       "      <td>Yes</td>\n",
       "      <td>No</td>\n",
       "      <td>No</td>\n",
       "      <td>No</td>\n",
       "      <td>No</td>\n",
       "      <td>No</td>\n",
       "      <td>No</td>\n",
       "      <td>MD</td>\n",
       "      <td>02 - Automobile</td>\n",
       "      <td>2001.0</td>\n",
       "      <td>HONDA</td>\n",
       "      <td>ACCORD</td>\n",
       "      <td>SILVER</td>\n",
       "      <td>Citation</td>\n",
       "      <td>21-403(b)</td>\n",
       "      <td>Transportation Article</td>\n",
       "      <td>No</td>\n",
       "      <td>BLACK</td>\n",
       "      <td>F</td>\n",
       "      <td>UPPER MARLBORO</td>\n",
       "      <td>MD</td>\n",
       "      <td>MD</td>\n",
       "      <td>A - Marked Patrol</td>\n",
       "      <td>(39.1628883333333, -77.2290883333333)</td>\n",
       "    </tr>\n",
       "    <tr>\n",
       "      <th>3</th>\n",
       "      <td>8/29/2017</td>\n",
       "      <td>9:22:00</td>\n",
       "      <td>MCP</td>\n",
       "      <td>3rd district, Silver Spring</td>\n",
       "      <td>FAILURE YIELD RIGHT OF WAY ON U TURN</td>\n",
       "      <td>CHERRY HILL RD./CALVERTON BLVD.</td>\n",
       "      <td>39.056975</td>\n",
       "      <td>-76.954633</td>\n",
       "      <td>No</td>\n",
       "      <td>No</td>\n",
       "      <td>No</td>\n",
       "      <td>Yes</td>\n",
       "      <td>No</td>\n",
       "      <td>No</td>\n",
       "      <td>No</td>\n",
       "      <td>No</td>\n",
       "      <td>No</td>\n",
       "      <td>No</td>\n",
       "      <td>MD</td>\n",
       "      <td>02 - Automobile</td>\n",
       "      <td>1998.0</td>\n",
       "      <td>DODG</td>\n",
       "      <td>DAKOTA</td>\n",
       "      <td>WHITE</td>\n",
       "      <td>Citation</td>\n",
       "      <td>21-402(b)</td>\n",
       "      <td>Transportation Article</td>\n",
       "      <td>No</td>\n",
       "      <td>BLACK</td>\n",
       "      <td>M</td>\n",
       "      <td>FORT WASHINGTON</td>\n",
       "      <td>MD</td>\n",
       "      <td>MD</td>\n",
       "      <td>A - Marked Patrol</td>\n",
       "      <td>(39.056975, -76.9546333333333)</td>\n",
       "    </tr>\n",
       "    <tr>\n",
       "      <th>4</th>\n",
       "      <td>8/28/2017</td>\n",
       "      <td>23:41:00</td>\n",
       "      <td>MCP</td>\n",
       "      <td>6th district, Gaithersburg / Montgomery Village</td>\n",
       "      <td>FAILURE OF DR. TO MAKE LANE CHANGE TO AVAIL. L...</td>\n",
       "      <td>355 @ SOUTH WESTLAND DRIVE</td>\n",
       "      <td>NaN</td>\n",
       "      <td>NaN</td>\n",
       "      <td>No</td>\n",
       "      <td>No</td>\n",
       "      <td>No</td>\n",
       "      <td>No</td>\n",
       "      <td>No</td>\n",
       "      <td>No</td>\n",
       "      <td>No</td>\n",
       "      <td>No</td>\n",
       "      <td>No</td>\n",
       "      <td>No</td>\n",
       "      <td>MD</td>\n",
       "      <td>02 - Automobile</td>\n",
       "      <td>2015.0</td>\n",
       "      <td>MINI COOPER</td>\n",
       "      <td>2S</td>\n",
       "      <td>WHITE</td>\n",
       "      <td>Citation</td>\n",
       "      <td>21-405(e1)</td>\n",
       "      <td>Transportation Article</td>\n",
       "      <td>No</td>\n",
       "      <td>WHITE</td>\n",
       "      <td>M</td>\n",
       "      <td>GAITHERSBURG</td>\n",
       "      <td>MD</td>\n",
       "      <td>MD</td>\n",
       "      <td>A - Marked Patrol</td>\n",
       "      <td>NaN</td>\n",
       "    </tr>\n",
       "    <tr>\n",
       "      <th>5</th>\n",
       "      <td>8/27/2013</td>\n",
       "      <td>0:55:00</td>\n",
       "      <td>MCP</td>\n",
       "      <td>2nd district, Bethesda</td>\n",
       "      <td>NEGLIGENT DRIVING VEHICLE IN CARELESS AND IMPR...</td>\n",
       "      <td>CONNECTICUT/CHEVY CHASE LAKE</td>\n",
       "      <td>NaN</td>\n",
       "      <td>NaN</td>\n",
       "      <td>No</td>\n",
       "      <td>No</td>\n",
       "      <td>No</td>\n",
       "      <td>No</td>\n",
       "      <td>No</td>\n",
       "      <td>No</td>\n",
       "      <td>No</td>\n",
       "      <td>No</td>\n",
       "      <td>No</td>\n",
       "      <td>No</td>\n",
       "      <td>MD</td>\n",
       "      <td>02 - Automobile</td>\n",
       "      <td>2013.0</td>\n",
       "      <td>HYUNDAI</td>\n",
       "      <td>ELANTRA</td>\n",
       "      <td>GRAY</td>\n",
       "      <td>Citation</td>\n",
       "      <td>21-901.1(b)</td>\n",
       "      <td>Transportation Article</td>\n",
       "      <td>No</td>\n",
       "      <td>WHITE</td>\n",
       "      <td>F</td>\n",
       "      <td>SILVER SPRING</td>\n",
       "      <td>MD</td>\n",
       "      <td>MD</td>\n",
       "      <td>A - Marked Patrol</td>\n",
       "      <td>NaN</td>\n",
       "    </tr>\n",
       "  </tbody>\n",
       "</table>\n",
       "</div>"
      ],
      "text/plain": [
       "  Date Of Stop Time Of Stop Agency  \\\n",
       "0    9/24/2013     17:11:00    MCP   \n",
       "2    12/1/2014     12:52:00    MCP   \n",
       "3    8/29/2017      9:22:00    MCP   \n",
       "4    8/28/2017     23:41:00    MCP   \n",
       "5    8/27/2013      0:55:00    MCP   \n",
       "\n",
       "                                         SubAgency  \\\n",
       "0                      3rd district, Silver Spring   \n",
       "2  6th district, Gaithersburg / Montgomery Village   \n",
       "3                      3rd district, Silver Spring   \n",
       "4  6th district, Gaithersburg / Montgomery Village   \n",
       "5                           2nd district, Bethesda   \n",
       "\n",
       "                                         Description  \\\n",
       "0  DRIVING VEHICLE ON HIGHWAY WITH SUSPENDED REGI...   \n",
       "2                 FAILURE STOP AND YIELD AT THRU HWY   \n",
       "3               FAILURE YIELD RIGHT OF WAY ON U TURN   \n",
       "4  FAILURE OF DR. TO MAKE LANE CHANGE TO AVAIL. L...   \n",
       "5  NEGLIGENT DRIVING VEHICLE IN CARELESS AND IMPR...   \n",
       "\n",
       "                                 Location   Latitude  Longitude Accident  \\\n",
       "0                         8804 FLOWER AVE        NaN        NaN       No   \n",
       "2  CHRISTOPHER AVE/MONTGOMERY VILLAGE AVE  39.162888 -77.229088       No   \n",
       "3         CHERRY HILL RD./CALVERTON BLVD.  39.056975 -76.954633       No   \n",
       "4              355 @ SOUTH WESTLAND DRIVE        NaN        NaN       No   \n",
       "5            CONNECTICUT/CHEVY CHASE LAKE        NaN        NaN       No   \n",
       "\n",
       "  Belts Personal Injury Property Damage Fatal Commercial License HAZMAT  \\\n",
       "0    No              No              No    No                 No     No   \n",
       "2    No              No             Yes    No                 No     No   \n",
       "3    No              No             Yes    No                 No     No   \n",
       "4    No              No              No    No                 No     No   \n",
       "5    No              No              No    No                 No     No   \n",
       "\n",
       "  Commercial Vehicle Alcohol Work Zone State      VehicleType    Year  \\\n",
       "0                 No      No        No    MD  02 - Automobile  2008.0   \n",
       "2                 No      No        No    MD  02 - Automobile  2001.0   \n",
       "3                 No      No        No    MD  02 - Automobile  1998.0   \n",
       "4                 No      No        No    MD  02 - Automobile  2015.0   \n",
       "5                 No      No        No    MD  02 - Automobile  2013.0   \n",
       "\n",
       "          Make    Model   Color Violation Type       Charge  \\\n",
       "0         FORD       4S   BLACK       Citation    13-401(h)   \n",
       "2        HONDA   ACCORD  SILVER       Citation    21-403(b)   \n",
       "3         DODG   DAKOTA   WHITE       Citation    21-402(b)   \n",
       "4  MINI COOPER       2S   WHITE       Citation   21-405(e1)   \n",
       "5      HYUNDAI  ELANTRA    GRAY       Citation  21-901.1(b)   \n",
       "\n",
       "                  Article Contributed To Accident   Race Gender  \\\n",
       "0  Transportation Article                      No  BLACK      M   \n",
       "2  Transportation Article                      No  BLACK      F   \n",
       "3  Transportation Article                      No  BLACK      M   \n",
       "4  Transportation Article                      No  WHITE      M   \n",
       "5  Transportation Article                      No  WHITE      F   \n",
       "\n",
       "       Driver City Driver State DL State        Arrest Type  \\\n",
       "0      TAKOMA PARK           MD       MD  A - Marked Patrol   \n",
       "2   UPPER MARLBORO           MD       MD  A - Marked Patrol   \n",
       "3  FORT WASHINGTON           MD       MD  A - Marked Patrol   \n",
       "4     GAITHERSBURG           MD       MD  A - Marked Patrol   \n",
       "5    SILVER SPRING           MD       MD  A - Marked Patrol   \n",
       "\n",
       "                             Geolocation  \n",
       "0                                    NaN  \n",
       "2  (39.1628883333333, -77.2290883333333)  \n",
       "3         (39.056975, -76.9546333333333)  \n",
       "4                                    NaN  \n",
       "5                                    NaN  "
      ]
     },
     "execution_count": 5,
     "metadata": {},
     "output_type": "execute_result"
    }
   ],
   "source": [
    "#Extracting  State row from the entire data\n",
    "data = df[df.State == 'MD']\n",
    "#data.head()"
   ]
  },
  {
   "cell_type": "code",
   "execution_count": 6,
   "metadata": {},
   "outputs": [
    {
     "data": {
      "text/html": [
       "<div>\n",
       "<style scoped>\n",
       "    .dataframe tbody tr th:only-of-type {\n",
       "        vertical-align: middle;\n",
       "    }\n",
       "\n",
       "    .dataframe tbody tr th {\n",
       "        vertical-align: top;\n",
       "    }\n",
       "\n",
       "    .dataframe thead th {\n",
       "        text-align: right;\n",
       "    }\n",
       "</style>\n",
       "<table border=\"1\" class=\"dataframe\">\n",
       "  <thead>\n",
       "    <tr style=\"text-align: right;\">\n",
       "      <th></th>\n",
       "      <th>Date Of Stop</th>\n",
       "      <th>Time Of Stop</th>\n",
       "      <th>Agency</th>\n",
       "      <th>SubAgency</th>\n",
       "      <th>Description</th>\n",
       "      <th>Location</th>\n",
       "      <th>Latitude</th>\n",
       "      <th>Longitude</th>\n",
       "      <th>Accident</th>\n",
       "      <th>Belts</th>\n",
       "      <th>Personal Injury</th>\n",
       "      <th>Property Damage</th>\n",
       "      <th>Fatal</th>\n",
       "      <th>Commercial License</th>\n",
       "      <th>HAZMAT</th>\n",
       "      <th>Commercial Vehicle</th>\n",
       "      <th>Alcohol</th>\n",
       "      <th>Work Zone</th>\n",
       "      <th>State</th>\n",
       "      <th>VehicleType</th>\n",
       "      <th>Year</th>\n",
       "      <th>Make</th>\n",
       "      <th>Model</th>\n",
       "      <th>Color</th>\n",
       "      <th>Violation Type</th>\n",
       "      <th>Charge</th>\n",
       "      <th>Article</th>\n",
       "      <th>Contributed To Accident</th>\n",
       "      <th>Race</th>\n",
       "      <th>Gender</th>\n",
       "      <th>Driver City</th>\n",
       "      <th>Driver State</th>\n",
       "      <th>DL State</th>\n",
       "      <th>Arrest Type</th>\n",
       "      <th>Geolocation</th>\n",
       "    </tr>\n",
       "  </thead>\n",
       "  <tbody>\n",
       "    <tr>\n",
       "      <th>2</th>\n",
       "      <td>12/1/2014</td>\n",
       "      <td>12:52:00</td>\n",
       "      <td>MCP</td>\n",
       "      <td>6th district, Gaithersburg / Montgomery Village</td>\n",
       "      <td>FAILURE STOP AND YIELD AT THRU HWY</td>\n",
       "      <td>CHRISTOPHER AVE/MONTGOMERY VILLAGE AVE</td>\n",
       "      <td>39.162888</td>\n",
       "      <td>-77.229088</td>\n",
       "      <td>No</td>\n",
       "      <td>No</td>\n",
       "      <td>No</td>\n",
       "      <td>Yes</td>\n",
       "      <td>No</td>\n",
       "      <td>No</td>\n",
       "      <td>No</td>\n",
       "      <td>No</td>\n",
       "      <td>No</td>\n",
       "      <td>No</td>\n",
       "      <td>MD</td>\n",
       "      <td>02 - Automobile</td>\n",
       "      <td>2001.0</td>\n",
       "      <td>HONDA</td>\n",
       "      <td>ACCORD</td>\n",
       "      <td>SILVER</td>\n",
       "      <td>Citation</td>\n",
       "      <td>21-403(b)</td>\n",
       "      <td>Transportation Article</td>\n",
       "      <td>No</td>\n",
       "      <td>BLACK</td>\n",
       "      <td>F</td>\n",
       "      <td>UPPER MARLBORO</td>\n",
       "      <td>MD</td>\n",
       "      <td>MD</td>\n",
       "      <td>A - Marked Patrol</td>\n",
       "      <td>(39.1628883333333, -77.2290883333333)</td>\n",
       "    </tr>\n",
       "    <tr>\n",
       "      <th>3</th>\n",
       "      <td>8/29/2017</td>\n",
       "      <td>9:22:00</td>\n",
       "      <td>MCP</td>\n",
       "      <td>3rd district, Silver Spring</td>\n",
       "      <td>FAILURE YIELD RIGHT OF WAY ON U TURN</td>\n",
       "      <td>CHERRY HILL RD./CALVERTON BLVD.</td>\n",
       "      <td>39.056975</td>\n",
       "      <td>-76.954633</td>\n",
       "      <td>No</td>\n",
       "      <td>No</td>\n",
       "      <td>No</td>\n",
       "      <td>Yes</td>\n",
       "      <td>No</td>\n",
       "      <td>No</td>\n",
       "      <td>No</td>\n",
       "      <td>No</td>\n",
       "      <td>No</td>\n",
       "      <td>No</td>\n",
       "      <td>MD</td>\n",
       "      <td>02 - Automobile</td>\n",
       "      <td>1998.0</td>\n",
       "      <td>DODG</td>\n",
       "      <td>DAKOTA</td>\n",
       "      <td>WHITE</td>\n",
       "      <td>Citation</td>\n",
       "      <td>21-402(b)</td>\n",
       "      <td>Transportation Article</td>\n",
       "      <td>No</td>\n",
       "      <td>BLACK</td>\n",
       "      <td>M</td>\n",
       "      <td>FORT WASHINGTON</td>\n",
       "      <td>MD</td>\n",
       "      <td>MD</td>\n",
       "      <td>A - Marked Patrol</td>\n",
       "      <td>(39.056975, -76.9546333333333)</td>\n",
       "    </tr>\n",
       "    <tr>\n",
       "      <th>6</th>\n",
       "      <td>10/8/2013</td>\n",
       "      <td>13:23:00</td>\n",
       "      <td>MCP</td>\n",
       "      <td>4th district, Wheaton</td>\n",
       "      <td>DRIVING VEHICLE ON HIGHWAY WITH SUSPENDED REGI...</td>\n",
       "      <td>GEORGIA AVE / BEL PRE RD</td>\n",
       "      <td>39.093383</td>\n",
       "      <td>-77.079552</td>\n",
       "      <td>No</td>\n",
       "      <td>No</td>\n",
       "      <td>No</td>\n",
       "      <td>No</td>\n",
       "      <td>No</td>\n",
       "      <td>No</td>\n",
       "      <td>No</td>\n",
       "      <td>No</td>\n",
       "      <td>No</td>\n",
       "      <td>No</td>\n",
       "      <td>MD</td>\n",
       "      <td>02 - Automobile</td>\n",
       "      <td>1993.0</td>\n",
       "      <td>FORD</td>\n",
       "      <td>PICKUP</td>\n",
       "      <td>BLACK</td>\n",
       "      <td>Citation</td>\n",
       "      <td>13-401(h)</td>\n",
       "      <td>Transportation Article</td>\n",
       "      <td>No</td>\n",
       "      <td>HISPANIC</td>\n",
       "      <td>M</td>\n",
       "      <td>BELTSVILLE</td>\n",
       "      <td>MD</td>\n",
       "      <td>MD</td>\n",
       "      <td>A - Marked Patrol</td>\n",
       "      <td>(39.0933833333333, -77.0795516666667)</td>\n",
       "    </tr>\n",
       "    <tr>\n",
       "      <th>10</th>\n",
       "      <td>2/14/2014</td>\n",
       "      <td>20:10:00</td>\n",
       "      <td>MCP</td>\n",
       "      <td>1st district, Rockville</td>\n",
       "      <td>FAILURE TO DRIVE ON RIGHT HAND ROADWAY OF DIVI...</td>\n",
       "      <td>GATEWAY CENTER DR @ CLARKSBURG RD</td>\n",
       "      <td>39.234843</td>\n",
       "      <td>-77.281540</td>\n",
       "      <td>No</td>\n",
       "      <td>No</td>\n",
       "      <td>No</td>\n",
       "      <td>No</td>\n",
       "      <td>No</td>\n",
       "      <td>No</td>\n",
       "      <td>No</td>\n",
       "      <td>No</td>\n",
       "      <td>No</td>\n",
       "      <td>No</td>\n",
       "      <td>MD</td>\n",
       "      <td>02 - Automobile</td>\n",
       "      <td>2005.0</td>\n",
       "      <td>CADI</td>\n",
       "      <td>STS</td>\n",
       "      <td>BLACK</td>\n",
       "      <td>Citation</td>\n",
       "      <td>21-311(1)</td>\n",
       "      <td>Transportation Article</td>\n",
       "      <td>No</td>\n",
       "      <td>WHITE</td>\n",
       "      <td>M</td>\n",
       "      <td>POINT OF ROCK</td>\n",
       "      <td>MD</td>\n",
       "      <td>WV</td>\n",
       "      <td>A - Marked Patrol</td>\n",
       "      <td>(39.2348434333333, -77.28153995)</td>\n",
       "    </tr>\n",
       "    <tr>\n",
       "      <th>12</th>\n",
       "      <td>6/9/2012</td>\n",
       "      <td>21:19:00</td>\n",
       "      <td>MCP</td>\n",
       "      <td>3rd district, Silver Spring</td>\n",
       "      <td>OCCUPANT UNDER 16 NOT RESTRAINED BY SEATBELT</td>\n",
       "      <td>2068 HARLEQUIN TERRACE</td>\n",
       "      <td>39.069143</td>\n",
       "      <td>-76.969678</td>\n",
       "      <td>No</td>\n",
       "      <td>No</td>\n",
       "      <td>No</td>\n",
       "      <td>No</td>\n",
       "      <td>No</td>\n",
       "      <td>No</td>\n",
       "      <td>No</td>\n",
       "      <td>No</td>\n",
       "      <td>No</td>\n",
       "      <td>No</td>\n",
       "      <td>MD</td>\n",
       "      <td>02 - Automobile</td>\n",
       "      <td>2004.0</td>\n",
       "      <td>CHEVROLET</td>\n",
       "      <td>IMPALA</td>\n",
       "      <td>SILVER</td>\n",
       "      <td>Citation</td>\n",
       "      <td>22-412.3(b)</td>\n",
       "      <td>Transportation Article</td>\n",
       "      <td>No</td>\n",
       "      <td>WHITE</td>\n",
       "      <td>F</td>\n",
       "      <td>SILVER SPRING</td>\n",
       "      <td>MD</td>\n",
       "      <td>MD</td>\n",
       "      <td>A - Marked Patrol</td>\n",
       "      <td>(39.06914295, -76.9696780666667)</td>\n",
       "    </tr>\n",
       "  </tbody>\n",
       "</table>\n",
       "</div>"
      ],
      "text/plain": [
       "   Date Of Stop Time Of Stop Agency  \\\n",
       "2     12/1/2014     12:52:00    MCP   \n",
       "3     8/29/2017      9:22:00    MCP   \n",
       "6     10/8/2013     13:23:00    MCP   \n",
       "10    2/14/2014     20:10:00    MCP   \n",
       "12     6/9/2012     21:19:00    MCP   \n",
       "\n",
       "                                          SubAgency  \\\n",
       "2   6th district, Gaithersburg / Montgomery Village   \n",
       "3                       3rd district, Silver Spring   \n",
       "6                             4th district, Wheaton   \n",
       "10                          1st district, Rockville   \n",
       "12                      3rd district, Silver Spring   \n",
       "\n",
       "                                          Description  \\\n",
       "2                  FAILURE STOP AND YIELD AT THRU HWY   \n",
       "3                FAILURE YIELD RIGHT OF WAY ON U TURN   \n",
       "6   DRIVING VEHICLE ON HIGHWAY WITH SUSPENDED REGI...   \n",
       "10  FAILURE TO DRIVE ON RIGHT HAND ROADWAY OF DIVI...   \n",
       "12       OCCUPANT UNDER 16 NOT RESTRAINED BY SEATBELT   \n",
       "\n",
       "                                  Location   Latitude  Longitude Accident  \\\n",
       "2   CHRISTOPHER AVE/MONTGOMERY VILLAGE AVE  39.162888 -77.229088       No   \n",
       "3          CHERRY HILL RD./CALVERTON BLVD.  39.056975 -76.954633       No   \n",
       "6                 GEORGIA AVE / BEL PRE RD  39.093383 -77.079552       No   \n",
       "10       GATEWAY CENTER DR @ CLARKSBURG RD  39.234843 -77.281540       No   \n",
       "12                  2068 HARLEQUIN TERRACE  39.069143 -76.969678       No   \n",
       "\n",
       "   Belts Personal Injury Property Damage Fatal Commercial License HAZMAT  \\\n",
       "2     No              No             Yes    No                 No     No   \n",
       "3     No              No             Yes    No                 No     No   \n",
       "6     No              No              No    No                 No     No   \n",
       "10    No              No              No    No                 No     No   \n",
       "12    No              No              No    No                 No     No   \n",
       "\n",
       "   Commercial Vehicle Alcohol Work Zone State      VehicleType    Year  \\\n",
       "2                  No      No        No    MD  02 - Automobile  2001.0   \n",
       "3                  No      No        No    MD  02 - Automobile  1998.0   \n",
       "6                  No      No        No    MD  02 - Automobile  1993.0   \n",
       "10                 No      No        No    MD  02 - Automobile  2005.0   \n",
       "12                 No      No        No    MD  02 - Automobile  2004.0   \n",
       "\n",
       "         Make   Model   Color Violation Type       Charge  \\\n",
       "2       HONDA  ACCORD  SILVER       Citation    21-403(b)   \n",
       "3        DODG  DAKOTA   WHITE       Citation    21-402(b)   \n",
       "6        FORD  PICKUP   BLACK       Citation    13-401(h)   \n",
       "10       CADI     STS   BLACK       Citation    21-311(1)   \n",
       "12  CHEVROLET  IMPALA  SILVER       Citation  22-412.3(b)   \n",
       "\n",
       "                   Article Contributed To Accident      Race Gender  \\\n",
       "2   Transportation Article                      No     BLACK      F   \n",
       "3   Transportation Article                      No     BLACK      M   \n",
       "6   Transportation Article                      No  HISPANIC      M   \n",
       "10  Transportation Article                      No     WHITE      M   \n",
       "12  Transportation Article                      No     WHITE      F   \n",
       "\n",
       "        Driver City Driver State DL State        Arrest Type  \\\n",
       "2    UPPER MARLBORO           MD       MD  A - Marked Patrol   \n",
       "3   FORT WASHINGTON           MD       MD  A - Marked Patrol   \n",
       "6        BELTSVILLE           MD       MD  A - Marked Patrol   \n",
       "10    POINT OF ROCK           MD       WV  A - Marked Patrol   \n",
       "12    SILVER SPRING           MD       MD  A - Marked Patrol   \n",
       "\n",
       "                              Geolocation  \n",
       "2   (39.1628883333333, -77.2290883333333)  \n",
       "3          (39.056975, -76.9546333333333)  \n",
       "6   (39.0933833333333, -77.0795516666667)  \n",
       "10       (39.2348434333333, -77.28153995)  \n",
       "12       (39.06914295, -76.9696780666667)  "
      ]
     },
     "execution_count": 6,
     "metadata": {},
     "output_type": "execute_result"
    }
   ],
   "source": [
    "#Extracting  State row from the entire data\n",
    "data=data.dropna(how='any')\n",
    "data.head()"
   ]
  },
  {
   "cell_type": "code",
   "execution_count": null,
   "metadata": {},
   "outputs": [],
   "source": []
  },
  {
   "cell_type": "code",
   "execution_count": 7,
   "metadata": {},
   "outputs": [
    {
     "data": {
      "text/plain": [
       "Date Of Stop               793218\n",
       "Time Of Stop               793218\n",
       "Agency                     793218\n",
       "SubAgency                  793218\n",
       "Description                793218\n",
       "Location                   793218\n",
       "Latitude                   793218\n",
       "Longitude                  793218\n",
       "Accident                   793218\n",
       "Belts                      793218\n",
       "Personal Injury            793218\n",
       "Property Damage            793218\n",
       "Fatal                      793218\n",
       "Commercial License         793218\n",
       "HAZMAT                     793218\n",
       "Commercial Vehicle         793218\n",
       "Alcohol                    793218\n",
       "Work Zone                  793218\n",
       "State                      793218\n",
       "VehicleType                793218\n",
       "Year                       793218\n",
       "Make                       793218\n",
       "Model                      793218\n",
       "Color                      793218\n",
       "Violation Type             793218\n",
       "Charge                     793218\n",
       "Article                    793218\n",
       "Contributed To Accident    793218\n",
       "Race                       793218\n",
       "Gender                     793218\n",
       "Driver City                793218\n",
       "Driver State               793218\n",
       "DL State                   793218\n",
       "Arrest Type                793218\n",
       "Geolocation                793218\n",
       "dtype: int64"
      ]
     },
     "execution_count": 7,
     "metadata": {},
     "output_type": "execute_result"
    }
   ],
   "source": [
    "#drop missing values\n",
    "data.count()"
   ]
  },
  {
   "cell_type": "code",
   "execution_count": 8,
   "metadata": {},
   "outputs": [
    {
     "data": {
      "text/plain": [
       "Citation    400970\n",
       "Warning     392248\n",
       "Name: Violation Type, dtype: int64"
      ]
     },
     "execution_count": 8,
     "metadata": {},
     "output_type": "execute_result"
    }
   ],
   "source": [
    "# traffic stop reason\n",
    "data['Violation Type'].value_counts()"
   ]
  },
  {
   "cell_type": "code",
   "execution_count": null,
   "metadata": {},
   "outputs": [],
   "source": []
  },
  {
   "cell_type": "code",
   "execution_count": 9,
   "metadata": {},
   "outputs": [
    {
     "data": {
      "image/png": "[encoded data removed]",
      "text/plain": [
       "<Figure size 432x288 with 1 Axes>"
      ]
     },
     "metadata": {
      "needs_background": "light"
     },
     "output_type": "display_data"
    }
   ],
   "source": [
    "f, axarr = plt.plot(2,16, 8)\n",
    "\n",
    "sns.countplot(data['Violation Type'])#, color='g')\n",
    "#axarr.set_title(\"Violation Type\", fontsize=14)\n",
    "\n",
    "sns.despine()"
   ]
  },
  {
   "cell_type": "code",
   "execution_count": 10,
   "metadata": {},
   "outputs": [
    {
     "data": {
      "text/plain": [
       "MD    748418\n",
       "DC      9746\n",
       "XX      9483\n",
       "VA      7076\n",
       "FL      2496\n",
       "NY      1941\n",
       "CA      1748\n",
       "PA      1504\n",
       "NC      1131\n",
       "TX       871\n",
       "Name: DL State, dtype: int64"
      ]
     },
     "execution_count": 10,
     "metadata": {},
     "output_type": "execute_result"
    }
   ],
   "source": [
    "#Stops By driver License state\n",
    "\n",
    "data['DL State'].value_counts().nlargest(10)"
   ]
  },
  {
   "cell_type": "code",
   "execution_count": 11,
   "metadata": {},
   "outputs": [
    {
     "data": {
      "text/plain": [
       "SILVER SPRING         213913\n",
       "GAITHERSBURG           87332\n",
       "ROCKVILLE              70460\n",
       "GERMANTOWN             68267\n",
       "BETHESDA               23073\n",
       "MONTGOMERY VILLAGE     22892\n",
       "HYATTSVILLE            19645\n",
       "POTOMAC                17852\n",
       "OLNEY                  14975\n",
       "LAUREL                 11964\n",
       "Name: Driver City, dtype: int64"
      ]
     },
     "execution_count": 11,
     "metadata": {},
     "output_type": "execute_result"
    }
   ],
   "source": [
    "#Stops By driver City\n",
    "\n",
    "data['Driver City'].value_counts().nlargest(10)"
   ]
  },
  {
   "cell_type": "code",
   "execution_count": 12,
   "metadata": {},
   "outputs": [
    {
     "data": {
      "text/plain": [
       "Driver City    Description                                                                                      \n",
       "SILVER SPRING  DRIVER FAILURE TO OBEY PROPERLY PLACED TRAFFIC CONTROL DEVICE INSTRUCTIONS                           18101\n",
       "               FAILURE TO DISPLAY REGISTRATION CARD UPON DEMAND BY POLICE OFFICER                                   10278\n",
       "               DRIVING VEHICLE ON HIGHWAY WITH SUSPENDED REGISTRATION                                                8421\n",
       "               FAILURE OF INDIVIDUAL DRIVING ON HIGHWAY TO DISPLAY LICENSE TO UNIFORMED POLICE ON DEMAND             7097\n",
       "ROCKVILLE      DRIVER FAILURE TO OBEY PROPERLY PLACED TRAFFIC CONTROL DEVICE INSTRUCTIONS                            6010\n",
       "SILVER SPRING  PERSON DRIVING MOTOR VEHICLE ON HIGHWAY OR PUBLIC USE PROPERTY ON SUSPENDED LICENSE AND PRIVILEGE     5514\n",
       "GAITHERSBURG   DRIVER FAILURE TO OBEY PROPERLY PLACED TRAFFIC CONTROL DEVICE INSTRUCTIONS                            5426\n",
       "SILVER SPRING  DRIVER FAILURE TO STOP AT STOP SIGN LINE                                                              5165\n",
       "               DRIVER USING HANDS TO USE HANDHELD TELEPHONE WHILEMOTOR VEHICLE IS IN MOTION                          5116\n",
       "GAITHERSBURG   FAILURE TO DISPLAY REGISTRATION CARD UPON DEMAND BY POLICE OFFICER                                    4431\n",
       "Name: Description, dtype: int64"
      ]
     },
     "execution_count": 12,
     "metadata": {},
     "output_type": "execute_result"
    }
   ],
   "source": [
    "#compare arrest type to Driver City\n",
    "data.groupby('Driver City')['Description'].value_counts().nlargest(10)"
   ]
  },
  {
   "cell_type": "code",
   "execution_count": 13,
   "metadata": {},
   "outputs": [
    {
     "data": {
      "text/plain": [
       "A - Marked Patrol                         646786\n",
       "Q - Marked Laser                           79945\n",
       "B - Unmarked Patrol                        24120\n",
       "S - License Plate Recognition               9956\n",
       "O - Foot Patrol                             6670\n",
       "L - Motorcycle                              6575\n",
       "E - Marked Stationary Radar                 5958\n",
       "G - Marked Moving Radar (Stationary)        5009\n",
       "R - Unmarked Laser                          3365\n",
       "I - Marked Moving Radar (Moving)            1560\n",
       "M - Marked (Off-Duty)                       1154\n",
       "F - Unmarked Stationary Radar                624\n",
       "H - Unmarked Moving Radar (Stationary)       518\n",
       "C - Marked VASCAR                            239\n",
       "J - Unmarked Moving Radar (Moving)           231\n",
       "P - Mounted Patrol                           196\n",
       "D - Unmarked VASCAR                          178\n",
       "N - Unmarked (Off-Duty)                      117\n",
       "K - Aircraft Assist                           17\n",
       "Name: Arrest Type, dtype: int64"
      ]
     },
     "execution_count": 13,
     "metadata": {},
     "output_type": "execute_result"
    }
   ],
   "source": [
    "#how stop was initiated\n",
    "data['Arrest Type'].value_counts()"
   ]
  },
  {
   "cell_type": "code",
   "execution_count": 14,
   "metadata": {},
   "outputs": [
    {
     "data": {
      "text/plain": [
       "DRIVER FAILURE TO OBEY PROPERLY PLACED TRAFFIC CONTROL DEVICE INSTRUCTIONS                           65295\n",
       "FAILURE TO DISPLAY REGISTRATION CARD UPON DEMAND BY POLICE OFFICER                                   38540\n",
       "DRIVING VEHICLE ON HIGHWAY WITH SUSPENDED REGISTRATION                                               30890\n",
       "FAILURE OF INDIVIDUAL DRIVING ON HIGHWAY TO DISPLAY LICENSE TO UNIFORMED POLICE ON DEMAND            22779\n",
       "DRIVER USING HANDS TO USE HANDHELD TELEPHONE WHILEMOTOR VEHICLE IS IN MOTION                         20651\n",
       "PERSON DRIVING MOTOR VEHICLE ON HIGHWAY OR PUBLIC USE PROPERTY ON SUSPENDED LICENSE AND PRIVILEGE    19317\n",
       "DRIVER FAILURE TO STOP AT STOP SIGN LINE                                                             18303\n",
       "DISPLAYING EXPIRED REGISTRATION PLATE ISSUED BY ANY STATE                                            17013\n",
       "EXCEEDING THE POSTED SPEED LIMIT OF 30 MPH                                                           13274\n",
       "EXCEEDING THE POSTED SPEED LIMIT OF 40 MPH                                                           13005\n",
       "Name: Description, dtype: int64"
      ]
     },
     "execution_count": 14,
     "metadata": {},
     "output_type": "execute_result"
    }
   ],
   "source": [
    "data['Description'].value_counts().nlargest(10)"
   ]
  },
  {
   "cell_type": "code",
   "execution_count": 15,
   "metadata": {},
   "outputs": [
    {
     "data": {
      "text/plain": [
       "Description                                                                                        Arrest Type      \n",
       "DRIVER FAILURE TO OBEY PROPERLY PLACED TRAFFIC CONTROL DEVICE INSTRUCTIONS                         A - Marked Patrol    60660\n",
       "FAILURE TO DISPLAY REGISTRATION CARD UPON DEMAND BY POLICE OFFICER                                 A - Marked Patrol    32147\n",
       "DRIVING VEHICLE ON HIGHWAY WITH SUSPENDED REGISTRATION                                             A - Marked Patrol    27371\n",
       "FAILURE OF INDIVIDUAL DRIVING ON HIGHWAY TO DISPLAY LICENSE TO UNIFORMED POLICE ON DEMAND          A - Marked Patrol    19871\n",
       "DRIVER USING HANDS TO USE HANDHELD TELEPHONE WHILEMOTOR VEHICLE IS IN MOTION                       A - Marked Patrol    17871\n",
       "DRIVER FAILURE TO STOP AT STOP SIGN LINE                                                           A - Marked Patrol    17244\n",
       "PERSON DRIVING MOTOR VEHICLE ON HIGHWAY OR PUBLIC USE PROPERTY ON SUSPENDED LICENSE AND PRIVILEGE  A - Marked Patrol    16742\n",
       "DISPLAYING EXPIRED REGISTRATION PLATE ISSUED BY ANY STATE                                          A - Marked Patrol    16207\n",
       "DRIVING VEHICLE ON HIGHWAY WITHOUT CURRENT REGISTRATION PLATES AND VALIDATION TABS                 A - Marked Patrol    11986\n",
       "DRIVING MOTOR VEHICLE ON HIGHWAY WITHOUT REQUIRED LICENSE AND AUTHORIZATION                        A - Marked Patrol    10724\n",
       "Name: Arrest Type, dtype: int64"
      ]
     },
     "execution_count": 15,
     "metadata": {},
     "output_type": "execute_result"
    }
   ],
   "source": [
    "#compare arrest type to violation descriptions\n",
    "data.groupby('Description')['Arrest Type'].value_counts().nlargest(10)"
   ]
  },
  {
   "cell_type": "code",
   "execution_count": 16,
   "metadata": {},
   "outputs": [
    {
     "data": {
      "text/plain": [
       "M    528779\n",
       "F    263759\n",
       "U       680\n",
       "Name: Gender, dtype: int64"
      ]
     },
     "execution_count": 16,
     "metadata": {},
     "output_type": "execute_result"
    }
   ],
   "source": [
    "data['Gender'].value_counts()"
   ]
  },
  {
   "cell_type": "code",
   "execution_count": 23,
   "metadata": {},
   "outputs": [
    {
     "data": {
      "text/plain": [
       "M    66.66%\n",
       "F    33.25%\n",
       "U     0.09%\n",
       "Name: Gender, dtype: object"
      ]
     },
     "execution_count": 23,
     "metadata": {},
     "output_type": "execute_result"
    }
   ],
   "source": [
    "#lets find the percentage\n",
    "test=(data['Gender'].value_counts()/data['Gender'].count())*100\n",
    "test.map(\"{:.2f}%\".format)"
   ]
  },
  {
   "cell_type": "code",
   "execution_count": 28,
   "metadata": {},
   "outputs": [
    {
     "data": {
      "text/plain": [
       "Gender  Description                                                                                      \n",
       "M       DRIVER FAILURE TO OBEY PROPERLY PLACED TRAFFIC CONTROL DEVICE INSTRUCTIONS                           40193\n",
       "F       DRIVER FAILURE TO OBEY PROPERLY PLACED TRAFFIC CONTROL DEVICE INSTRUCTIONS                           25100\n",
       "M       FAILURE TO DISPLAY REGISTRATION CARD UPON DEMAND BY POLICE OFFICER                                   24001\n",
       "        DRIVING VEHICLE ON HIGHWAY WITH SUSPENDED REGISTRATION                                               19657\n",
       "        FAILURE OF INDIVIDUAL DRIVING ON HIGHWAY TO DISPLAY LICENSE TO UNIFORMED POLICE ON DEMAND            15853\n",
       "F       FAILURE TO DISPLAY REGISTRATION CARD UPON DEMAND BY POLICE OFFICER                                   14538\n",
       "M       PERSON DRIVING MOTOR VEHICLE ON HIGHWAY OR PUBLIC USE PROPERTY ON SUSPENDED LICENSE AND PRIVILEGE    14430\n",
       "        DRIVER USING HANDS TO USE HANDHELD TELEPHONE WHILEMOTOR VEHICLE IS IN MOTION                         11712\n",
       "F       DRIVING VEHICLE ON HIGHWAY WITH SUSPENDED REGISTRATION                                               11219\n",
       "M       DRIVER FAILURE TO STOP AT STOP SIGN LINE                                                             11082\n",
       "Name: Description, dtype: int64"
      ]
     },
     "execution_count": 28,
     "metadata": {},
     "output_type": "execute_result"
    }
   ],
   "source": [
    "#comparing types of violation between male and female\n",
    "data.groupby('Gender')['Description'].value_counts().nlargest(10)"
   ]
  },
  {
   "cell_type": "code",
   "execution_count": 29,
   "metadata": {},
   "outputs": [
    {
     "data": {
      "text/plain": [
       "WHITE              278554\n",
       "BLACK              243941\n",
       "HISPANIC           178212\n",
       "ASIAN               47310\n",
       "OTHER               43405\n",
       "NATIVE AMERICAN      1796\n",
       "Name: Race, dtype: int64"
      ]
     },
     "execution_count": 29,
     "metadata": {},
     "output_type": "execute_result"
    }
   ],
   "source": [
    "data['Race'].value_counts()"
   ]
  },
  {
   "cell_type": "code",
   "execution_count": 30,
   "metadata": {},
   "outputs": [
    {
     "data": {
      "image/png": "[encoded data removed]",
      "text/plain": [
       "<Figure size 432x288 with 1 Axes>"
      ]
     },
     "metadata": {
      "needs_background": "light"
     },
     "output_type": "display_data"
    }
   ],
   "source": [
    "# Let's see what we have for Race\n",
    "f, axarr = plt.plot(2,16, 16)\n",
    "\n",
    "sns.countplot(data['Race'])#, color='g')\n",
    "#axarr.set_title(\"Violation Type\", fontsize=14)\n",
    "\n",
    "sns.despine()"
   ]
  },
  {
   "cell_type": "code",
   "execution_count": 31,
   "metadata": {},
   "outputs": [
    {
     "data": {
      "text/plain": [
       "WHITE              35.116954\n",
       "BLACK              30.753336\n",
       "HISPANIC           22.466964\n",
       "ASIAN               5.964312\n",
       "OTHER               5.472014\n",
       "NATIVE AMERICAN     0.226419\n",
       "Name: Race, dtype: float64"
      ]
     },
     "execution_count": 31,
     "metadata": {},
     "output_type": "execute_result"
    }
   ],
   "source": [
    "#Calculate the percentage\n",
    "data['Race'].value_counts(normalize=True) *100"
   ]
  },
  {
   "cell_type": "code",
   "execution_count": null,
   "metadata": {},
   "outputs": [],
   "source": [
    "plt.data =['Race'].plot.bar()\n",
    "plt.show()"
   ]
  },
  {
   "cell_type": "code",
   "execution_count": 32,
   "metadata": {},
   "outputs": [
    {
     "data": {
      "text/plain": [
       "Race      Description                                                                                      \n",
       "WHITE     DRIVER FAILURE TO OBEY PROPERLY PLACED TRAFFIC CONTROL DEVICE INSTRUCTIONS                           25884\n",
       "BLACK     DRIVER FAILURE TO OBEY PROPERLY PLACED TRAFFIC CONTROL DEVICE INSTRUCTIONS                           17756\n",
       "HISPANIC  DRIVER FAILURE TO OBEY PROPERLY PLACED TRAFFIC CONTROL DEVICE INSTRUCTIONS                           13005\n",
       "WHITE     FAILURE TO DISPLAY REGISTRATION CARD UPON DEMAND BY POLICE OFFICER                                   12874\n",
       "BLACK     DRIVING VEHICLE ON HIGHWAY WITH SUSPENDED REGISTRATION                                               12645\n",
       "          FAILURE TO DISPLAY REGISTRATION CARD UPON DEMAND BY POLICE OFFICER                                   12634\n",
       "WHITE     DRIVING VEHICLE ON HIGHWAY WITH SUSPENDED REGISTRATION                                               10066\n",
       "          DRIVER USING HANDS TO USE HANDHELD TELEPHONE WHILEMOTOR VEHICLE IS IN MOTION                          9181\n",
       "BLACK     PERSON DRIVING MOTOR VEHICLE ON HIGHWAY OR PUBLIC USE PROPERTY ON SUSPENDED LICENSE AND PRIVILEGE     9045\n",
       "HISPANIC  FAILURE TO DISPLAY REGISTRATION CARD UPON DEMAND BY POLICE OFFICER                                    7945\n",
       "Name: Description, dtype: int64"
      ]
     },
     "execution_count": 32,
     "metadata": {},
     "output_type": "execute_result"
    }
   ],
   "source": [
    "#comparing types of violation by Race\n",
    "data.groupby('Race')['Description'].value_counts().nlargest(10)"
   ]
  },
  {
   "cell_type": "code",
   "execution_count": 24,
   "metadata": {},
   "outputs": [
    {
     "data": {
      "text/plain": [
       "Race             Description                                                               \n",
       "NATIVE AMERICAN  DRIVER FAILURE TO OBEY PROPERLY PLACED TRAFFIC CONTROL DEVICE INSTRUCTIONS    10.36%\n",
       "ASIAN            DRIVER FAILURE TO OBEY PROPERLY PLACED TRAFFIC CONTROL DEVICE INSTRUCTIONS     9.63%\n",
       "WHITE            DRIVER FAILURE TO OBEY PROPERLY PLACED TRAFFIC CONTROL DEVICE INSTRUCTIONS     9.29%\n",
       "OTHER            DRIVER FAILURE TO OBEY PROPERLY PLACED TRAFFIC CONTROL DEVICE INSTRUCTIONS     9.01%\n",
       "HISPANIC         DRIVER FAILURE TO OBEY PROPERLY PLACED TRAFFIC CONTROL DEVICE INSTRUCTIONS     7.30%\n",
       "BLACK            DRIVER FAILURE TO OBEY PROPERLY PLACED TRAFFIC CONTROL DEVICE INSTRUCTIONS     7.28%\n",
       "ASIAN            FAILURE TO DISPLAY REGISTRATION CARD UPON DEMAND BY POLICE OFFICER             5.95%\n",
       "BLACK            DRIVING VEHICLE ON HIGHWAY WITH SUSPENDED REGISTRATION                         5.18%\n",
       "                 FAILURE TO DISPLAY REGISTRATION CARD UPON DEMAND BY POLICE OFFICER             5.18%\n",
       "OTHER            FAILURE TO DISPLAY REGISTRATION CARD UPON DEMAND BY POLICE OFFICER             5.05%\n",
       "Name: Description, dtype: object"
      ]
     },
     "execution_count": 24,
     "metadata": {},
     "output_type": "execute_result"
    }
   ],
   "source": [
    "#test=(data['Gender'].value_counts()/data['Gender'].count())*100\n",
    "#test.map(\"{:.2f}%\".format)\n",
    "\n",
    "\n",
    "#percentage of violations by race\n",
    "r=(data.groupby('Race')['Description'].value_counts(normalize=True).nlargest(10)) *100\n",
    "r.map(\"{:.2f}%\".format)"
   ]
  },
  {
   "cell_type": "code",
   "execution_count": 34,
   "metadata": {},
   "outputs": [
    {
     "data": {
      "text/plain": [
       "Alcohol  Description                                                                                      \n",
       "Yes      PERSON DRIVING MOTOR VEHICLE ON HIGHWAY OR PUBLIC USE PROPERTY ON SUSPENDED LICENSE AND PRIVILEGE    14.26%\n",
       "No       DRIVER FAILURE TO OBEY PROPERLY PLACED TRAFFIC CONTROL DEVICE INSTRUCTIONS                            8.24%\n",
       "Yes      DRIVING MOTOR VEH. WHILE LIC. SUSPENDED UNDER 26-204                                                  6.94%\n",
       "         DRIVING MOTOR VEH. WHILE LIC. SUSPENDED UNDER 27-103                                                  6.31%\n",
       "         POSSESSING SUSPENDED LIC.                                                                             6.16%\n",
       "No       FAILURE TO DISPLAY REGISTRATION CARD UPON DEMAND BY POLICE OFFICER                                    4.86%\n",
       "Yes      DRIVING MOTOR VEHICLE ON HIGHWAY WITHOUT REQUIRED LICENSE AND AUTHORIZATION                           4.29%\n",
       "         DRIVING MOTOR VEH. WHILE LIC. SUSPENDED UNDER 26-206                                                  4.05%\n",
       "No       DRIVING VEHICLE ON HIGHWAY WITH SUSPENDED REGISTRATION                                                3.90%\n",
       "Yes      DRIVING MOTOR VEH. WHILE LIC. SUSPENDED UNDER 17-106                                                  3.27%\n",
       "Name: Description, dtype: object"
      ]
     },
     "execution_count": 34,
     "metadata": {},
     "output_type": "execute_result"
    }
   ],
   "source": [
    "r=(data.groupby('Alcohol')['Description'].value_counts(normalize=True).nlargest(10)) *100\n",
    "r.map(\"{:.2f}%\".format)"
   ]
  },
  {
   "cell_type": "code",
   "execution_count": 36,
   "metadata": {},
   "outputs": [
    {
     "data": {
      "text/plain": [
       "Fatal  Description                                                                                     \n",
       "Yes    NEGLIGENT DRIVING VEHICLE IN CARELESS AND IMPRUDENT MANNER ENDANGERING PROPERTY, LIFE AND PERSON    8.89%\n",
       "No     DRIVER FAILURE TO OBEY PROPERLY PLACED TRAFFIC CONTROL DEVICE INSTRUCTIONS                          8.23%\n",
       "Yes    DRIVER FAILURE TO OBEY PROPERLY PLACED TRAFFIC CONTROL DEVICE INSTRUCTIONS                          5.93%\n",
       "       FAILURE TO CONTROL VEHICLE SPEED ON HIGHWAY TO AVOID COLLISION                                      5.93%\n",
       "No     FAILURE TO DISPLAY REGISTRATION CARD UPON DEMAND BY POLICE OFFICER                                  4.86%\n",
       "Yes    DRIVER CHANGING LANES WHEN UNSAFE                                                                   4.44%\n",
       "No     DRIVING VEHICLE ON HIGHWAY WITH SUSPENDED REGISTRATION                                              3.89%\n",
       "Yes    DISPLAYING EXPIRED REGISTRATION PLATE ISSUED BY ANY STATE                                           2.96%\n",
       "       DRIVING VEHICLE ON HIGHWAY WITH SUSPENDED REGISTRATION                                              2.96%\n",
       "       OPERATING VEHICLE ON HIGHWAY WITH UNAUTHORIZED WINDOW TINTING MATERIAL                              2.96%\n",
       "Name: Description, dtype: object"
      ]
     },
     "execution_count": 36,
     "metadata": {},
     "output_type": "execute_result"
    }
   ],
   "source": [
    "#Fatal percentage\n",
    "r=(data.groupby('Fatal')['Description'].value_counts(normalize=True).nlargest(10)) *100\n",
    "r.map(\"{:.2f}%\".format)"
   ]
  },
  {
   "cell_type": "code",
   "execution_count": 27,
   "metadata": {},
   "outputs": [],
   "source": [
    "def compute_outcome_stats(data):\n",
    "    \"\"\"Compute statistics regarding the relative quanties of arrests, warnings, and citations\"\"\"\n",
    "    n_total = len(data)\n",
    "    n_warnings = len(data[data['Violation Type'] == 'Warning'])\n",
    "    n_citations = len(data[data['Violation Type'] == 'Citation'])\n",
    "    citations_per_warning = n_citations / n_warnings\n",
    "    \n",
    "\n",
    "    return(pd.Series(data = {\n",
    "        'n_total': n_total,\n",
    "        'n_warnings': n_warnings,\n",
    "        'n_citations': n_citations,\n",
    "        'citations_per_warning': citations_per_warning,\n",
    "    }))"
   ]
  },
  {
   "cell_type": "code",
   "execution_count": 28,
   "metadata": {},
   "outputs": [
    {
     "data": {
      "text/plain": [
       "n_total                           793,218.0\n",
       "n_warnings                        392,248.0\n",
       "n_citations                       400,970.0\n",
       "citations_per_warning    1.0222359323693173\n",
       "dtype: object"
      ]
     },
     "execution_count": 28,
     "metadata": {},
     "output_type": "execute_result"
    }
   ],
   "source": [
    "#citations_per_warning - The ratio of citations to warnings. \n",
    "#A higher number signifies a greater likelihood of being ticketed \n",
    "#instead of getting off with a warning.\n",
    "\n",
    "#compute_outcome_stats(new_df).apply(\"{:,}\".format)\n",
    "compute_outcome_stats(data).apply(\"{:,}\".format)\n",
    "\n",
    "#compute_outcome_stats(data)"
   ]
  },
  {
   "cell_type": "code",
   "execution_count": 29,
   "metadata": {},
   "outputs": [
    {
     "data": {
      "text/html": [
       "<div>\n",
       "<style scoped>\n",
       "    .dataframe tbody tr th:only-of-type {\n",
       "        vertical-align: middle;\n",
       "    }\n",
       "\n",
       "    .dataframe tbody tr th {\n",
       "        vertical-align: top;\n",
       "    }\n",
       "\n",
       "    .dataframe thead th {\n",
       "        text-align: right;\n",
       "    }\n",
       "</style>\n",
       "<table border=\"1\" class=\"dataframe\">\n",
       "  <thead>\n",
       "    <tr style=\"text-align: right;\">\n",
       "      <th></th>\n",
       "      <th>n_total</th>\n",
       "      <th>n_warnings</th>\n",
       "      <th>n_citations</th>\n",
       "      <th>citations_per_warning</th>\n",
       "    </tr>\n",
       "    <tr>\n",
       "      <th>Gender</th>\n",
       "      <th></th>\n",
       "      <th></th>\n",
       "      <th></th>\n",
       "      <th></th>\n",
       "    </tr>\n",
       "  </thead>\n",
       "  <tbody>\n",
       "    <tr>\n",
       "      <th>F</th>\n",
       "      <td>263759.0</td>\n",
       "      <td>144496.0</td>\n",
       "      <td>119263.0</td>\n",
       "      <td>0.825372</td>\n",
       "    </tr>\n",
       "    <tr>\n",
       "      <th>M</th>\n",
       "      <td>528779.0</td>\n",
       "      <td>247179.0</td>\n",
       "      <td>281600.0</td>\n",
       "      <td>1.139255</td>\n",
       "    </tr>\n",
       "    <tr>\n",
       "      <th>U</th>\n",
       "      <td>680.0</td>\n",
       "      <td>573.0</td>\n",
       "      <td>107.0</td>\n",
       "      <td>0.186736</td>\n",
       "    </tr>\n",
       "  </tbody>\n",
       "</table>\n",
       "</div>"
      ],
      "text/plain": [
       "         n_total  n_warnings  n_citations  citations_per_warning\n",
       "Gender                                                          \n",
       "F       263759.0    144496.0     119263.0               0.825372\n",
       "M       528779.0    247179.0     281600.0               1.139255\n",
       "U          680.0       573.0        107.0               0.186736"
      ]
     },
     "execution_count": 29,
     "metadata": {},
     "output_type": "execute_result"
    }
   ],
   "source": [
    "#Breakdown By Gender\n",
    "data.groupby('Gender').apply(compute_outcome_stats)"
   ]
  },
  {
   "cell_type": "code",
   "execution_count": 30,
   "metadata": {},
   "outputs": [
    {
     "data": {
      "text/html": [
       "<div>\n",
       "<style scoped>\n",
       "    .dataframe tbody tr th:only-of-type {\n",
       "        vertical-align: middle;\n",
       "    }\n",
       "\n",
       "    .dataframe tbody tr th {\n",
       "        vertical-align: top;\n",
       "    }\n",
       "\n",
       "    .dataframe thead th {\n",
       "        text-align: right;\n",
       "    }\n",
       "</style>\n",
       "<table border=\"1\" class=\"dataframe\">\n",
       "  <thead>\n",
       "    <tr style=\"text-align: right;\">\n",
       "      <th></th>\n",
       "      <th>n_total</th>\n",
       "      <th>n_warnings</th>\n",
       "      <th>n_citations</th>\n",
       "      <th>citations_per_warning</th>\n",
       "    </tr>\n",
       "    <tr>\n",
       "      <th>Race</th>\n",
       "      <th></th>\n",
       "      <th></th>\n",
       "      <th></th>\n",
       "      <th></th>\n",
       "    </tr>\n",
       "  </thead>\n",
       "  <tbody>\n",
       "    <tr>\n",
       "      <th>ASIAN</th>\n",
       "      <td>47310.0</td>\n",
       "      <td>27082.0</td>\n",
       "      <td>20228.0</td>\n",
       "      <td>0.746917</td>\n",
       "    </tr>\n",
       "    <tr>\n",
       "      <th>BLACK</th>\n",
       "      <td>243941.0</td>\n",
       "      <td>118090.0</td>\n",
       "      <td>125851.0</td>\n",
       "      <td>1.065721</td>\n",
       "    </tr>\n",
       "    <tr>\n",
       "      <th>HISPANIC</th>\n",
       "      <td>178212.0</td>\n",
       "      <td>75943.0</td>\n",
       "      <td>102269.0</td>\n",
       "      <td>1.346655</td>\n",
       "    </tr>\n",
       "    <tr>\n",
       "      <th>NATIVE AMERICAN</th>\n",
       "      <td>1796.0</td>\n",
       "      <td>1000.0</td>\n",
       "      <td>796.0</td>\n",
       "      <td>0.796000</td>\n",
       "    </tr>\n",
       "    <tr>\n",
       "      <th>OTHER</th>\n",
       "      <td>43405.0</td>\n",
       "      <td>24426.0</td>\n",
       "      <td>18979.0</td>\n",
       "      <td>0.777000</td>\n",
       "    </tr>\n",
       "    <tr>\n",
       "      <th>WHITE</th>\n",
       "      <td>278554.0</td>\n",
       "      <td>145707.0</td>\n",
       "      <td>132847.0</td>\n",
       "      <td>0.911741</td>\n",
       "    </tr>\n",
       "  </tbody>\n",
       "</table>\n",
       "</div>"
      ],
      "text/plain": [
       "                  n_total  n_warnings  n_citations  citations_per_warning\n",
       "Race                                                                     \n",
       "ASIAN             47310.0     27082.0      20228.0               0.746917\n",
       "BLACK            243941.0    118090.0     125851.0               1.065721\n",
       "HISPANIC         178212.0     75943.0     102269.0               1.346655\n",
       "NATIVE AMERICAN    1796.0      1000.0        796.0               0.796000\n",
       "OTHER             43405.0     24426.0      18979.0               0.777000\n",
       "WHITE            278554.0    145707.0     132847.0               0.911741"
      ]
     },
     "execution_count": 30,
     "metadata": {},
     "output_type": "execute_result"
    }
   ],
   "source": [
    "#Breakdown By Race\n",
    "data.groupby('Race').apply(compute_outcome_stats)"
   ]
  },
  {
   "cell_type": "code",
   "execution_count": 33,
   "metadata": {},
   "outputs": [
    {
     "data": {
      "text/html": [
       "<div>\n",
       "<style scoped>\n",
       "    .dataframe tbody tr th:only-of-type {\n",
       "        vertical-align: middle;\n",
       "    }\n",
       "\n",
       "    .dataframe tbody tr th {\n",
       "        vertical-align: top;\n",
       "    }\n",
       "\n",
       "    .dataframe thead th {\n",
       "        text-align: right;\n",
       "    }\n",
       "</style>\n",
       "<table border=\"1\" class=\"dataframe\">\n",
       "  <thead>\n",
       "    <tr style=\"text-align: right;\">\n",
       "      <th></th>\n",
       "      <th>n_total</th>\n",
       "      <th>n_warnings</th>\n",
       "      <th>n_citations</th>\n",
       "      <th>citations_per_warning</th>\n",
       "    </tr>\n",
       "    <tr>\n",
       "      <th>Alcohol</th>\n",
       "      <th></th>\n",
       "      <th></th>\n",
       "      <th></th>\n",
       "      <th></th>\n",
       "    </tr>\n",
       "  </thead>\n",
       "  <tbody>\n",
       "    <tr>\n",
       "      <th>No</th>\n",
       "      <td>79193500.0</td>\n",
       "      <td>39219400.0</td>\n",
       "      <td>39974100.0</td>\n",
       "      <td>101.924303</td>\n",
       "    </tr>\n",
       "    <tr>\n",
       "      <th>Yes</th>\n",
       "      <td>128300.0</td>\n",
       "      <td>5400.0</td>\n",
       "      <td>122900.0</td>\n",
       "      <td>2275.925926</td>\n",
       "    </tr>\n",
       "  </tbody>\n",
       "</table>\n",
       "</div>"
      ],
      "text/plain": [
       "            n_total  n_warnings  n_citations  citations_per_warning\n",
       "Alcohol                                                            \n",
       "No       79193500.0  39219400.0   39974100.0             101.924303\n",
       "Yes        128300.0      5400.0     122900.0            2275.925926"
      ]
     },
     "execution_count": 33,
     "metadata": {},
     "output_type": "execute_result"
    }
   ],
   "source": [
    "data.groupby('Alcohol').apply(compute_outcome_stats)*100"
   ]
  },
  {
   "cell_type": "code",
   "execution_count": 48,
   "metadata": {},
   "outputs": [
    {
     "data": {
      "text/plain": [
       "<matplotlib.axes._subplots.AxesSubplot at 0x1ac006a5470>"
      ]
     },
     "execution_count": 48,
     "metadata": {},
     "output_type": "execute_result"
    },
    {
     "data": {
      "image/png": "[encoded data removed]",
      "text/plain": [
       "<Figure size 1152x576 with 2 Axes>"
      ]
     },
     "metadata": {
      "needs_background": "light"
     },
     "output_type": "display_data"
    }
   ],
   "source": [
    "#citation Rate by Race\n",
    "#citation Rate by Race\n",
    "race_agg = data.groupby(['Race']).apply(compute_outcome_stats)\n",
    "fig, axes = plt.subplots(nrows=2,ncols=1, figsize=figsize)\n",
    "race_agg['citations_per_warning'].plot.barh(ax=axes[0], figsize=figsize, title=\"Citation Rate By Race\")\n",
    "race_agg['n_citations'].plot.barh(ax=axes[1], figsize=figsize, title='Citations By Race')"
   ]
  },
  {
   "cell_type": "code",
   "execution_count": 49,
   "metadata": {
    "_cell_guid": "e45c49ca-88b0-496a-ba85-6cb60f260789",
    "_uuid": "a397a4c4274f31705cd1908147ab98e974581385"
   },
   "outputs": [
    {
     "data": {
      "text/html": [
       "<div>\n",
       "<style scoped>\n",
       "    .dataframe tbody tr th:only-of-type {\n",
       "        vertical-align: middle;\n",
       "    }\n",
       "\n",
       "    .dataframe tbody tr th {\n",
       "        vertical-align: top;\n",
       "    }\n",
       "\n",
       "    .dataframe thead th {\n",
       "        text-align: right;\n",
       "    }\n",
       "</style>\n",
       "<table border=\"1\" class=\"dataframe\">\n",
       "  <thead>\n",
       "    <tr style=\"text-align: right;\">\n",
       "      <th></th>\n",
       "      <th>State</th>\n",
       "      <th>Count</th>\n",
       "    </tr>\n",
       "  </thead>\n",
       "  <tbody>\n",
       "    <tr>\n",
       "      <th>0</th>\n",
       "      <td>MD</td>\n",
       "      <td>793218</td>\n",
       "    </tr>\n",
       "    <tr>\n",
       "      <th>1</th>\n",
       "      <td>VA</td>\n",
       "      <td>41191</td>\n",
       "    </tr>\n",
       "    <tr>\n",
       "      <th>2</th>\n",
       "      <td>DC</td>\n",
       "      <td>24136</td>\n",
       "    </tr>\n",
       "    <tr>\n",
       "      <th>3</th>\n",
       "      <td>PA</td>\n",
       "      <td>6775</td>\n",
       "    </tr>\n",
       "    <tr>\n",
       "      <th>4</th>\n",
       "      <td>TX</td>\n",
       "      <td>4460</td>\n",
       "    </tr>\n",
       "  </tbody>\n",
       "</table>\n",
       "</div>"
      ],
      "text/plain": [
       "  State   Count\n",
       "0    MD  793218\n",
       "1    VA   41191\n",
       "2    DC   24136\n",
       "3    PA    6775\n",
       "4    TX    4460"
      ]
     },
     "execution_count": 49,
     "metadata": {},
     "output_type": "execute_result"
    }
   ],
   "source": [
    "# Counting the violations by State\n",
    "data = data[data.State.notnull()]\n",
    "aggResult = data.groupby(by=['State'])['Fatal'].agg({'Count': np.size})\n",
    "aggResult['Count'] = aggResult.Count.astype(int)\n",
    "aggResult = aggResult.sort_values(by = 'Count', ascending=False)\n",
    "aggResult = aggResult.reset_index()\n",
    "aggResult.head()"
   ]
  },
  {
   "cell_type": "code",
   "execution_count": 50,
   "metadata": {},
   "outputs": [
    {
     "data": {
      "image/png": "[encoded data removed]",
      "text/plain": [
       "<Figure size 1152x1152 with 4 Axes>"
      ]
     },
     "metadata": {
      "needs_background": "light"
     },
     "output_type": "display_data"
    }
   ],
   "source": [
    "# Let's see the kinds of violations\n",
    "f, axarr = plt.subplots(2, 2, figsize=(16, 16))\n",
    "\n",
    "f.subplots_adjust(hspace=0.5)\n",
    "\n",
    "sns.countplot(df['Gender'], ax=axarr[0][0])#, color#='blue')\n",
    "axarr[0][0].set_title(\"Gender\", fontsize=14)\n",
    "\n",
    "sns.countplot(df['Race'], ax=axarr[0][1])#, color='blue')\n",
    "axarr[0][1].set_title(\"Race\", fontsize=14)\n",
    "\n",
    "sns.countplot(df['Article'], ax=axarr[1][0])#, color='blue')\n",
    "axarr[1][0].set_title(\"Article\", fontsize=14)\n",
    "\n",
    "sns.countplot(df['Violation Type'], ax=axarr[1][1])#, color='blue')\n",
    "axarr[1][1].set_title(\"Violation Type\", fontsize=14)\n",
    "\n",
    "sns.despine()"
   ]
  },
  {
   "cell_type": "code",
   "execution_count": 51,
   "metadata": {
    "_cell_guid": "13194d95-6b51-47ca-8f2d-fd26c21c76ee",
    "_uuid": "a422bb40328bf4eddf6c4accb531173b749bd21f"
   },
   "outputs": [
    {
     "data": {
      "image/png": "[encoded data removed]",
      "text/plain": [
       "<Figure size 432x288 with 1 Axes>"
      ]
     },
     "metadata": {
      "needs_background": "light"
     },
     "output_type": "display_data"
    }
   ],
   "source": [
    "# Let's see the Charge distribution\n",
    "df['Charge'] = df['Charge'].apply(lambda x: re.findall(r\"\\d+\\.?\\d*\", x)[0]).astype(float)\n",
    "kde_kwargs = {'color': 'crimson', 'shade': True}\n",
    "vis1 = sns.kdeplot(df['Charge'], **kde_kwargs)"
   ]
  },
  {
   "cell_type": "code",
   "execution_count": 52,
   "metadata": {
    "_cell_guid": "029c8d75-c679-41ec-a296-5becd9e266ff",
    "_uuid": "0548323ad2f44eeb31d089c14c3397bcc8e717eb"
   },
   "outputs": [
    {
     "data": {
      "image/png": "[encoded data removed]",
      "text/plain": [
       "<Figure size 1440x1440 with 10 Axes>"
      ]
     },
     "metadata": {
      "needs_background": "light"
     },
     "output_type": "display_data"
    }
   ],
   "source": [
    "# Let's see the violations kinds\n",
    "f, axarr = plt.subplots(5, 2, figsize=(20, 20))\n",
    "\n",
    "f.subplots_adjust(hspace=0.5)\n",
    "\n",
    "sns.countplot(df['Accident'], ax=axarr[0][0], color='salmon')\n",
    "axarr[0][0].set_title(\"Accident\", fontsize=14)\n",
    "\n",
    "sns.countplot(df['Belts'], ax=axarr[0][1], color='blue')\n",
    "axarr[0][1].set_title(\"Belts\", fontsize=14)\n",
    "\n",
    "sns.countplot(df['Personal Injury'], ax=axarr[1][0], color='red')\n",
    "axarr[1][0].set_title(\"Personal Injury\", fontsize=14)\n",
    "\n",
    "sns.countplot(df['Property Damage'], ax=axarr[1][1], color='cyan')\n",
    "axarr[1][1].set_title(\"Property Damage\", fontsize=14)\n",
    "\n",
    "sns.countplot(df['Fatal'], ax=axarr[2][0], color='magenta')\n",
    "axarr[2][0].set_title(\"Fatal\", fontsize=14)\n",
    "\n",
    "sns.countplot(df['Commercial License'], ax=axarr[2][1], color='green')\n",
    "axarr[2][1].set_title(\"Commercial License\", fontsize=14)\n",
    "\n",
    "sns.countplot(df['HAZMAT'], ax=axarr[3][0], color='navy')\n",
    "axarr[3][0].set_title(\"HAZMAT\", fontsize=14)\n",
    "\n",
    "sns.countplot(df['Commercial Vehicle'], ax=axarr[3][1], color='orange')\n",
    "axarr[3][1].set_title(\"Commercial Vehicle\", fontsize=14)\n",
    "\n",
    "sns.countplot(df['Alcohol'], ax=axarr[4][0], color='red')\n",
    "axarr[4][0].set_title(\"Alcohol\", fontsize=14)\n",
    "\n",
    "sns.countplot(df['Work Zone'], ax=axarr[4][1], color='red')\n",
    "axarr[4][1].set_title(\"Work Zone\", fontsize=14)\n",
    "\n",
    "sns.despine()"
   ]
  },
  {
   "cell_type": "code",
   "execution_count": null,
   "metadata": {},
   "outputs": [],
   "source": []
  },
  {
   "cell_type": "code",
   "execution_count": null,
   "metadata": {},
   "outputs": [],
   "source": []
  }
 ],
 "metadata": {
  "kernelspec": {
   "display_name": "Python 3",
   "language": "python",
   "name": "python3"
  },
  "language_info": {
   "codemirror_mode": {
    "name": "ipython",
    "version": 3
   },
   "file_extension": ".py",
   "mimetype": "text/x-python",
   "name": "python",
   "nbconvert_exporter": "python",
   "pygments_lexer": "ipython3",
   "version": "3.7.1"
  }
 },
 "nbformat": 4,
 "nbformat_minor": 1
}
