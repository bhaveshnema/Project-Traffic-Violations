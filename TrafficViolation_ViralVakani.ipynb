{
 "cells": [
  {
   "cell_type": "code",
   "execution_count": 1,
   "metadata": {},
   "outputs": [],
   "source": [
    "#**************************************Viral Vakani***************************************************\n",
    "#Import Libraries\n",
    "import re\n",
    "import warnings\n",
    "import numpy as np\n",
    "import pandas as pd\n",
    "import seaborn as sns\n",
    "import matplotlib.pyplot as plt\n",
    "import math\n",
    "import statistics\n",
    "import sys\n",
    "import plotly.plotly as py\n",
    "import plotly\n",
    "import plotly.graph_objs as go\n",
    "from collections import defaultdict\n",
    "\n",
    "#Setting environment variables\n",
    "#pd.options.display.max_columns = 50\n",
    "warnings.filterwarnings(\"ignore\")\n",
    "sns.set_style(\"dark\")\n",
    "%matplotlib inline\n",
    "\n"
   ]
  },
  {
   "cell_type": "code",
   "execution_count": 2,
   "metadata": {},
   "outputs": [
    {
     "data": {
      "text/plain": [
       "Date Of Stop               1018634\n",
       "Time Of Stop               1018634\n",
       "Agency                     1018634\n",
       "SubAgency                  1018634\n",
       "Description                1018625\n",
       "Location                   1018632\n",
       "Latitude                    933599\n",
       "Longitude                   933599\n",
       "Accident                   1018634\n",
       "Belts                      1018634\n",
       "Personal Injury            1018634\n",
       "Property Damage            1018634\n",
       "Fatal                      1018634\n",
       "Commercial License         1018634\n",
       "HAZMAT                     1018634\n",
       "Commercial Vehicle         1018634\n",
       "Alcohol                    1018634\n",
       "Work Zone                  1018634\n",
       "State                      1018575\n",
       "VehicleType                1018634\n",
       "Year                       1012208\n",
       "Make                       1018586\n",
       "Model                      1018465\n",
       "Color                      1005043\n",
       "Violation Type             1018634\n",
       "Charge                     1018634\n",
       "Article                     966569\n",
       "Contributed To Accident    1018634\n",
       "Race                       1018634\n",
       "Gender                     1018634\n",
       "Driver City                1018493\n",
       "Driver State               1018623\n",
       "DL State                   1017705\n",
       "Arrest Type                1018634\n",
       "Geolocation                 933599\n",
       "dtype: int64"
      ]
     },
     "execution_count": 2,
     "metadata": {},
     "output_type": "execute_result"
    }
   ],
   "source": [
    "#**************************************Viral Vakani***************************************************\n",
    "#Reading Data\n",
    "#Importing Data into Pandas DataFrame\n",
    "\n",
    "\n",
    "df = pd.read_csv(\"raw_data/Traffic_Violations.csv\")\n",
    "df.count()"
   ]
  },
  {
   "cell_type": "code",
   "execution_count": 3,
   "metadata": {},
   "outputs": [
    {
     "data": {
      "text/html": [
       "<div>\n",
       "<style scoped>\n",
       "    .dataframe tbody tr th:only-of-type {\n",
       "        vertical-align: middle;\n",
       "    }\n",
       "\n",
       "    .dataframe tbody tr th {\n",
       "        vertical-align: top;\n",
       "    }\n",
       "\n",
       "    .dataframe thead th {\n",
       "        text-align: right;\n",
       "    }\n",
       "</style>\n",
       "<table border=\"1\" class=\"dataframe\">\n",
       "  <thead>\n",
       "    <tr style=\"text-align: right;\">\n",
       "      <th></th>\n",
       "      <th>Date Of Stop</th>\n",
       "      <th>Time Of Stop</th>\n",
       "      <th>Description</th>\n",
       "      <th>Location</th>\n",
       "      <th>Latitude</th>\n",
       "      <th>Longitude</th>\n",
       "      <th>Accident</th>\n",
       "      <th>Belts</th>\n",
       "      <th>Personal Injury</th>\n",
       "      <th>Property Damage</th>\n",
       "      <th>...</th>\n",
       "      <th>State</th>\n",
       "      <th>Violation Type</th>\n",
       "      <th>Charge</th>\n",
       "      <th>Contributed To Accident</th>\n",
       "      <th>Race</th>\n",
       "      <th>Gender</th>\n",
       "      <th>Driver City</th>\n",
       "      <th>Driver State</th>\n",
       "      <th>DL State</th>\n",
       "      <th>Arrest Type</th>\n",
       "    </tr>\n",
       "  </thead>\n",
       "  <tbody>\n",
       "    <tr>\n",
       "      <th>0</th>\n",
       "      <td>09/24/2013</td>\n",
       "      <td>17:11:00</td>\n",
       "      <td>DRIVING VEHICLE ON HIGHWAY WITH SUSPENDED REGI...</td>\n",
       "      <td>8804 FLOWER AVE</td>\n",
       "      <td>NaN</td>\n",
       "      <td>NaN</td>\n",
       "      <td>No</td>\n",
       "      <td>No</td>\n",
       "      <td>No</td>\n",
       "      <td>No</td>\n",
       "      <td>...</td>\n",
       "      <td>MD</td>\n",
       "      <td>Citation</td>\n",
       "      <td>13-401(h)</td>\n",
       "      <td>No</td>\n",
       "      <td>BLACK</td>\n",
       "      <td>M</td>\n",
       "      <td>TAKOMA PARK</td>\n",
       "      <td>MD</td>\n",
       "      <td>MD</td>\n",
       "      <td>A - Marked Patrol</td>\n",
       "    </tr>\n",
       "    <tr>\n",
       "      <th>1</th>\n",
       "      <td>12/20/2012</td>\n",
       "      <td>00:41:00</td>\n",
       "      <td>DRIVING WHILE IMPAIRED BY ALCOHOL</td>\n",
       "      <td>NORFOLK AVE /  ST ELMO AVE</td>\n",
       "      <td>38.983578</td>\n",
       "      <td>-77.093105</td>\n",
       "      <td>No</td>\n",
       "      <td>No</td>\n",
       "      <td>No</td>\n",
       "      <td>No</td>\n",
       "      <td>...</td>\n",
       "      <td>MD</td>\n",
       "      <td>Citation</td>\n",
       "      <td>21-902(b1)</td>\n",
       "      <td>No</td>\n",
       "      <td>WHITE</td>\n",
       "      <td>M</td>\n",
       "      <td>DERWOOD</td>\n",
       "      <td>MD</td>\n",
       "      <td>MD</td>\n",
       "      <td>A - Marked Patrol</td>\n",
       "    </tr>\n",
       "    <tr>\n",
       "      <th>2</th>\n",
       "      <td>07/20/2012</td>\n",
       "      <td>23:12:00</td>\n",
       "      <td>FAILURE TO STOP AT STOP SIGN</td>\n",
       "      <td>WISTERIA DR @ WARING STATION RD</td>\n",
       "      <td>39.161810</td>\n",
       "      <td>-77.253581</td>\n",
       "      <td>No</td>\n",
       "      <td>No</td>\n",
       "      <td>No</td>\n",
       "      <td>No</td>\n",
       "      <td>...</td>\n",
       "      <td>MD</td>\n",
       "      <td>Citation</td>\n",
       "      <td>21-707(a)</td>\n",
       "      <td>No</td>\n",
       "      <td>ASIAN</td>\n",
       "      <td>F</td>\n",
       "      <td>GERMANTOWN</td>\n",
       "      <td>MD</td>\n",
       "      <td>MD</td>\n",
       "      <td>A - Marked Patrol</td>\n",
       "    </tr>\n",
       "    <tr>\n",
       "      <th>3</th>\n",
       "      <td>03/19/2012</td>\n",
       "      <td>16:10:00</td>\n",
       "      <td>DRIVER USING HANDS TO USE HANDHELD TELEPHONE W...</td>\n",
       "      <td>CLARENDON RD @ ELM ST. N/</td>\n",
       "      <td>38.982731</td>\n",
       "      <td>-77.100755</td>\n",
       "      <td>No</td>\n",
       "      <td>No</td>\n",
       "      <td>No</td>\n",
       "      <td>No</td>\n",
       "      <td>...</td>\n",
       "      <td>VA</td>\n",
       "      <td>Citation</td>\n",
       "      <td>21-1124.2(d2)</td>\n",
       "      <td>No</td>\n",
       "      <td>HISPANIC</td>\n",
       "      <td>M</td>\n",
       "      <td>ARLINGTON</td>\n",
       "      <td>VA</td>\n",
       "      <td>VA</td>\n",
       "      <td>A - Marked Patrol</td>\n",
       "    </tr>\n",
       "    <tr>\n",
       "      <th>4</th>\n",
       "      <td>12/01/2014</td>\n",
       "      <td>12:52:00</td>\n",
       "      <td>FAILURE STOP AND YIELD AT THRU HWY</td>\n",
       "      <td>CHRISTOPHER AVE/MONTGOMERY VILLAGE AVE</td>\n",
       "      <td>39.162888</td>\n",
       "      <td>-77.229088</td>\n",
       "      <td>No</td>\n",
       "      <td>No</td>\n",
       "      <td>No</td>\n",
       "      <td>Yes</td>\n",
       "      <td>...</td>\n",
       "      <td>MD</td>\n",
       "      <td>Citation</td>\n",
       "      <td>21-403(b)</td>\n",
       "      <td>No</td>\n",
       "      <td>BLACK</td>\n",
       "      <td>F</td>\n",
       "      <td>UPPER MARLBORO</td>\n",
       "      <td>MD</td>\n",
       "      <td>MD</td>\n",
       "      <td>A - Marked Patrol</td>\n",
       "    </tr>\n",
       "  </tbody>\n",
       "</table>\n",
       "<p>5 rows × 26 columns</p>\n",
       "</div>"
      ],
      "text/plain": [
       "  Date Of Stop Time Of Stop  \\\n",
       "0   09/24/2013     17:11:00   \n",
       "1   12/20/2012     00:41:00   \n",
       "2   07/20/2012     23:12:00   \n",
       "3   03/19/2012     16:10:00   \n",
       "4   12/01/2014     12:52:00   \n",
       "\n",
       "                                         Description  \\\n",
       "0  DRIVING VEHICLE ON HIGHWAY WITH SUSPENDED REGI...   \n",
       "1                  DRIVING WHILE IMPAIRED BY ALCOHOL   \n",
       "2                       FAILURE TO STOP AT STOP SIGN   \n",
       "3  DRIVER USING HANDS TO USE HANDHELD TELEPHONE W...   \n",
       "4                 FAILURE STOP AND YIELD AT THRU HWY   \n",
       "\n",
       "                                 Location   Latitude  Longitude Accident  \\\n",
       "0                         8804 FLOWER AVE        NaN        NaN       No   \n",
       "1              NORFOLK AVE /  ST ELMO AVE  38.983578 -77.093105       No   \n",
       "2         WISTERIA DR @ WARING STATION RD  39.161810 -77.253581       No   \n",
       "3               CLARENDON RD @ ELM ST. N/  38.982731 -77.100755       No   \n",
       "4  CHRISTOPHER AVE/MONTGOMERY VILLAGE AVE  39.162888 -77.229088       No   \n",
       "\n",
       "  Belts Personal Injury Property Damage        ...         State  \\\n",
       "0    No              No              No        ...            MD   \n",
       "1    No              No              No        ...            MD   \n",
       "2    No              No              No        ...            MD   \n",
       "3    No              No              No        ...            VA   \n",
       "4    No              No             Yes        ...            MD   \n",
       "\n",
       "  Violation Type         Charge Contributed To Accident      Race Gender  \\\n",
       "0       Citation      13-401(h)                      No     BLACK      M   \n",
       "1       Citation     21-902(b1)                      No     WHITE      M   \n",
       "2       Citation      21-707(a)                      No     ASIAN      F   \n",
       "3       Citation  21-1124.2(d2)                      No  HISPANIC      M   \n",
       "4       Citation      21-403(b)                      No     BLACK      F   \n",
       "\n",
       "      Driver City Driver State DL State        Arrest Type  \n",
       "0     TAKOMA PARK           MD       MD  A - Marked Patrol  \n",
       "1         DERWOOD           MD       MD  A - Marked Patrol  \n",
       "2      GERMANTOWN           MD       MD  A - Marked Patrol  \n",
       "3       ARLINGTON           VA       VA  A - Marked Patrol  \n",
       "4  UPPER MARLBORO           MD       MD  A - Marked Patrol  \n",
       "\n",
       "[5 rows x 26 columns]"
      ]
     },
     "execution_count": 3,
     "metadata": {},
     "output_type": "execute_result"
    }
   ],
   "source": [
    "#**************************************Viral Vakani***************************************************\n",
    "#Data Cleaning\n",
    "#Drops the following columns. axis=1 denotes that these are columns not rows\n",
    "\n",
    "df = df.drop(['Article','Agency','SubAgency', 'VehicleType','Make','Model','Color','Year', 'Geolocation'],axis=1)\n",
    "df.head(5)"
   ]
  },
  {
   "cell_type": "code",
   "execution_count": 4,
   "metadata": {},
   "outputs": [
    {
     "name": "stdout",
     "output_type": "stream",
     "text": [
      "Are there missing values? True\n"
     ]
    },
    {
     "data": {
      "text/plain": [
       "Date Of Stop               932635\n",
       "Time Of Stop               932635\n",
       "Description                932635\n",
       "Location                   932635\n",
       "Latitude                   932635\n",
       "Longitude                  932635\n",
       "Accident                   932635\n",
       "Belts                      932635\n",
       "Personal Injury            932635\n",
       "Property Damage            932635\n",
       "Fatal                      932635\n",
       "Commercial License         932635\n",
       "HAZMAT                     932635\n",
       "Commercial Vehicle         932635\n",
       "Alcohol                    932635\n",
       "Work Zone                  932635\n",
       "State                      932635\n",
       "Violation Type             932635\n",
       "Charge                     932635\n",
       "Contributed To Accident    932635\n",
       "Race                       932635\n",
       "Gender                     932635\n",
       "Driver City                932635\n",
       "Driver State               932635\n",
       "DL State                   932635\n",
       "Arrest Type                932635\n",
       "dtype: int64"
      ]
     },
     "execution_count": 4,
     "metadata": {},
     "output_type": "execute_result"
    }
   ],
   "source": [
    "#**************************************Viral Vakani***************************************************\n",
    "#Quick review of Data\n",
    "#DataFrame Properties\n",
    "#Clean Data of Nan/Null Values\n",
    "#checking for missing values\n",
    "\n",
    "print(\"Are there missing values? {}\".format(df.isnull().any().any()))\n",
    "#missing value control in features\n",
    "X=df.isnull().sum()\n",
    "\n",
    "#drop NaNs with \n",
    "df = df.dropna()\n",
    "df.count()"
   ]
  },
  {
   "cell_type": "code",
   "execution_count": 5,
   "metadata": {},
   "outputs": [
    {
     "data": {
      "text/html": [
       "<div>\n",
       "<style scoped>\n",
       "    .dataframe tbody tr th:only-of-type {\n",
       "        vertical-align: middle;\n",
       "    }\n",
       "\n",
       "    .dataframe tbody tr th {\n",
       "        vertical-align: top;\n",
       "    }\n",
       "\n",
       "    .dataframe thead th {\n",
       "        text-align: right;\n",
       "    }\n",
       "</style>\n",
       "<table border=\"1\" class=\"dataframe\">\n",
       "  <thead>\n",
       "    <tr style=\"text-align: right;\">\n",
       "      <th></th>\n",
       "      <th>Date Of Stop</th>\n",
       "      <th>Time Of Stop</th>\n",
       "      <th>Description</th>\n",
       "      <th>Location</th>\n",
       "      <th>Latitude</th>\n",
       "      <th>Longitude</th>\n",
       "      <th>Accident</th>\n",
       "      <th>Belts</th>\n",
       "      <th>Personal Injury</th>\n",
       "      <th>Property Damage</th>\n",
       "      <th>...</th>\n",
       "      <th>Gender</th>\n",
       "      <th>Driver City</th>\n",
       "      <th>Driver State</th>\n",
       "      <th>DL State</th>\n",
       "      <th>Arrest Type</th>\n",
       "      <th>year</th>\n",
       "      <th>month</th>\n",
       "      <th>Weekday</th>\n",
       "      <th>timestamp</th>\n",
       "      <th>minutes</th>\n",
       "    </tr>\n",
       "  </thead>\n",
       "  <tbody>\n",
       "    <tr>\n",
       "      <th>1</th>\n",
       "      <td>12/20/2012</td>\n",
       "      <td>00:41:00</td>\n",
       "      <td>DRIVING WHILE IMPAIRED BY ALCOHOL</td>\n",
       "      <td>NORFOLK AVE /  ST ELMO AVE</td>\n",
       "      <td>38.983578</td>\n",
       "      <td>-77.093105</td>\n",
       "      <td>No</td>\n",
       "      <td>No</td>\n",
       "      <td>No</td>\n",
       "      <td>No</td>\n",
       "      <td>...</td>\n",
       "      <td>M</td>\n",
       "      <td>DERWOOD</td>\n",
       "      <td>MD</td>\n",
       "      <td>MD</td>\n",
       "      <td>A - Marked Patrol</td>\n",
       "      <td>2012</td>\n",
       "      <td>Dec</td>\n",
       "      <td>Thursday</td>\n",
       "      <td>2019-03-22 00:41:00</td>\n",
       "      <td>41</td>\n",
       "    </tr>\n",
       "    <tr>\n",
       "      <th>2</th>\n",
       "      <td>07/20/2012</td>\n",
       "      <td>23:12:00</td>\n",
       "      <td>FAILURE TO STOP AT STOP SIGN</td>\n",
       "      <td>WISTERIA DR @ WARING STATION RD</td>\n",
       "      <td>39.161810</td>\n",
       "      <td>-77.253581</td>\n",
       "      <td>No</td>\n",
       "      <td>No</td>\n",
       "      <td>No</td>\n",
       "      <td>No</td>\n",
       "      <td>...</td>\n",
       "      <td>F</td>\n",
       "      <td>GERMANTOWN</td>\n",
       "      <td>MD</td>\n",
       "      <td>MD</td>\n",
       "      <td>A - Marked Patrol</td>\n",
       "      <td>2012</td>\n",
       "      <td>Jul</td>\n",
       "      <td>Friday</td>\n",
       "      <td>2019-03-22 23:12:00</td>\n",
       "      <td>1392</td>\n",
       "    </tr>\n",
       "    <tr>\n",
       "      <th>3</th>\n",
       "      <td>03/19/2012</td>\n",
       "      <td>16:10:00</td>\n",
       "      <td>DRIVER USING HANDS TO USE HANDHELD TELEPHONE W...</td>\n",
       "      <td>CLARENDON RD @ ELM ST. N/</td>\n",
       "      <td>38.982731</td>\n",
       "      <td>-77.100755</td>\n",
       "      <td>No</td>\n",
       "      <td>No</td>\n",
       "      <td>No</td>\n",
       "      <td>No</td>\n",
       "      <td>...</td>\n",
       "      <td>M</td>\n",
       "      <td>ARLINGTON</td>\n",
       "      <td>VA</td>\n",
       "      <td>VA</td>\n",
       "      <td>A - Marked Patrol</td>\n",
       "      <td>2012</td>\n",
       "      <td>Mar</td>\n",
       "      <td>Monday</td>\n",
       "      <td>2019-03-22 16:10:00</td>\n",
       "      <td>970</td>\n",
       "    </tr>\n",
       "    <tr>\n",
       "      <th>4</th>\n",
       "      <td>12/01/2014</td>\n",
       "      <td>12:52:00</td>\n",
       "      <td>FAILURE STOP AND YIELD AT THRU HWY</td>\n",
       "      <td>CHRISTOPHER AVE/MONTGOMERY VILLAGE AVE</td>\n",
       "      <td>39.162888</td>\n",
       "      <td>-77.229088</td>\n",
       "      <td>No</td>\n",
       "      <td>No</td>\n",
       "      <td>No</td>\n",
       "      <td>Yes</td>\n",
       "      <td>...</td>\n",
       "      <td>F</td>\n",
       "      <td>UPPER MARLBORO</td>\n",
       "      <td>MD</td>\n",
       "      <td>MD</td>\n",
       "      <td>A - Marked Patrol</td>\n",
       "      <td>2014</td>\n",
       "      <td>Dec</td>\n",
       "      <td>Monday</td>\n",
       "      <td>2019-03-22 12:52:00</td>\n",
       "      <td>772</td>\n",
       "    </tr>\n",
       "    <tr>\n",
       "      <th>5</th>\n",
       "      <td>06/09/2012</td>\n",
       "      <td>21:19:00</td>\n",
       "      <td>OCCUPANT UNDER 16 NOT RESTRAINED BY SEATBELT</td>\n",
       "      <td>2068 HARLEQUIN TERRACE</td>\n",
       "      <td>39.069143</td>\n",
       "      <td>-76.969678</td>\n",
       "      <td>No</td>\n",
       "      <td>No</td>\n",
       "      <td>No</td>\n",
       "      <td>No</td>\n",
       "      <td>...</td>\n",
       "      <td>F</td>\n",
       "      <td>SILVER SPRING</td>\n",
       "      <td>MD</td>\n",
       "      <td>MD</td>\n",
       "      <td>A - Marked Patrol</td>\n",
       "      <td>2012</td>\n",
       "      <td>Jun</td>\n",
       "      <td>Saturday</td>\n",
       "      <td>2019-03-22 21:19:00</td>\n",
       "      <td>1279</td>\n",
       "    </tr>\n",
       "  </tbody>\n",
       "</table>\n",
       "<p>5 rows × 31 columns</p>\n",
       "</div>"
      ],
      "text/plain": [
       "  Date Of Stop Time Of Stop  \\\n",
       "1   12/20/2012     00:41:00   \n",
       "2   07/20/2012     23:12:00   \n",
       "3   03/19/2012     16:10:00   \n",
       "4   12/01/2014     12:52:00   \n",
       "5   06/09/2012     21:19:00   \n",
       "\n",
       "                                         Description  \\\n",
       "1                  DRIVING WHILE IMPAIRED BY ALCOHOL   \n",
       "2                       FAILURE TO STOP AT STOP SIGN   \n",
       "3  DRIVER USING HANDS TO USE HANDHELD TELEPHONE W...   \n",
       "4                 FAILURE STOP AND YIELD AT THRU HWY   \n",
       "5       OCCUPANT UNDER 16 NOT RESTRAINED BY SEATBELT   \n",
       "\n",
       "                                 Location   Latitude  Longitude Accident  \\\n",
       "1              NORFOLK AVE /  ST ELMO AVE  38.983578 -77.093105       No   \n",
       "2         WISTERIA DR @ WARING STATION RD  39.161810 -77.253581       No   \n",
       "3               CLARENDON RD @ ELM ST. N/  38.982731 -77.100755       No   \n",
       "4  CHRISTOPHER AVE/MONTGOMERY VILLAGE AVE  39.162888 -77.229088       No   \n",
       "5                  2068 HARLEQUIN TERRACE  39.069143 -76.969678       No   \n",
       "\n",
       "  Belts Personal Injury Property Damage   ...   Gender     Driver City  \\\n",
       "1    No              No              No   ...        M         DERWOOD   \n",
       "2    No              No              No   ...        F      GERMANTOWN   \n",
       "3    No              No              No   ...        M       ARLINGTON   \n",
       "4    No              No             Yes   ...        F  UPPER MARLBORO   \n",
       "5    No              No              No   ...        F   SILVER SPRING   \n",
       "\n",
       "  Driver State DL State        Arrest Type  year month   Weekday  \\\n",
       "1           MD       MD  A - Marked Patrol  2012   Dec  Thursday   \n",
       "2           MD       MD  A - Marked Patrol  2012   Jul    Friday   \n",
       "3           VA       VA  A - Marked Patrol  2012   Mar    Monday   \n",
       "4           MD       MD  A - Marked Patrol  2014   Dec    Monday   \n",
       "5           MD       MD  A - Marked Patrol  2012   Jun  Saturday   \n",
       "\n",
       "            timestamp minutes  \n",
       "1 2019-03-22 00:41:00      41  \n",
       "2 2019-03-22 23:12:00    1392  \n",
       "3 2019-03-22 16:10:00     970  \n",
       "4 2019-03-22 12:52:00     772  \n",
       "5 2019-03-22 21:19:00    1279  \n",
       "\n",
       "[5 rows x 31 columns]"
      ]
     },
     "execution_count": 5,
     "metadata": {},
     "output_type": "execute_result"
    }
   ],
   "source": [
    "#**************************************Viral Vakani***************************************************\n",
    "import calendar\n",
    "d = dict(enumerate(calendar.month_abbr))\n",
    "\n",
    "#Create new columns year and month - take year and month form Date of Stop and store it into new columns\n",
    "\n",
    "df['year'] = pd.DatetimeIndex(df['Date Of Stop']).year\n",
    "df['month'] = pd.DatetimeIndex(df['Date Of Stop']).month\n",
    "df['month'] = df['month'].map(d)\n",
    "\n",
    "#Create a new column - Weekday that records the day of the week on which the incident occured\n",
    "df['Weekday'] = pd.to_datetime(df['Date Of Stop']).dt.weekday_name\n",
    "\n",
    "df['timestamp'] = pd.to_datetime(df['Time Of Stop'])\n",
    "df['minutes'] = df['timestamp'].dt.hour * 60 + df['timestamp'].dt.minute\n",
    "\n",
    "\n",
    "df.head(5)"
   ]
  },
  {
   "cell_type": "code",
   "execution_count": 6,
   "metadata": {},
   "outputs": [],
   "source": [
    "#**************************************Viral Vakani***************************************************\n",
    "minutes = df.minutes.sort_values()"
   ]
  },
  {
   "cell_type": "code",
   "execution_count": 7,
   "metadata": {},
   "outputs": [],
   "source": [
    "#**************************************Viral Vakani***************************************************\n",
    "#Total minutes in a day\n",
    "total_minutes = 24 * 60\n",
    "\n",
    "ecdf = np.zeros(total_minutes)\n",
    "for minute in minutes:\n",
    "  ecdf[minute] += 1 / df.shape[0]\n",
    "for i in range(1, total_minutes):\n",
    "  ecdf[i] += ecdf[i-1]\n",
    "hcdf = np.arange(total_minutes) * (1 / total_minutes)"
   ]
  },
  {
   "cell_type": "code",
   "execution_count": 9,
   "metadata": {},
   "outputs": [
    {
     "data": {
      "image/png": "[encoded data removed]",
      "text/plain": [
       "<Figure size 432x288 with 1 Axes>"
      ]
     },
     "metadata": {
      "needs_background": "light"
     },
     "output_type": "display_data"
    }
   ],
   "source": [
    "#**************************************Viral Vakani***************************************************\n",
    "plt.step(np.arange(total_minutes), ecdf, 'b', label='Empirical CDF')\n",
    "plt.step(np.arange(total_minutes), hcdf, 'r', label='Hypothesis CDF')\n",
    "plt.legend()\n",
    "plt.xlabel('Time of day in minutes')\n",
    "plt.ylabel('Probability')\n",
    "plt.savefig(\"ECDF_HCDF_Analysis1.png\")"
   ]
  },
  {
   "cell_type": "code",
   "execution_count": 10,
   "metadata": {},
   "outputs": [
    {
     "data": {
      "text/plain": [
       "0.114348842407685"
      ]
     },
     "execution_count": 10,
     "metadata": {},
     "output_type": "execute_result"
    }
   ],
   "source": [
    "#**************************************Viral Vakani***************************************************\n",
    "max_diff = np.max(np.abs(ecdf - hcdf))\n",
    "max_diff"
   ]
  },
  {
   "cell_type": "code",
   "execution_count": 11,
   "metadata": {},
   "outputs": [
    {
     "data": {
      "text/plain": [
       "(622196, 31)"
      ]
     },
     "execution_count": 11,
     "metadata": {},
     "output_type": "execute_result"
    }
   ],
   "source": [
    "#**************************************Viral Vakani***************************************************\n",
    "# Since max diff between Empirical CDF and CDF of hypothesis is less that 0.15, we do not reject the null hypothesis\n",
    "# K Test for Male\n",
    "male = df[df.Gender == 'M']\n",
    "male.shape"
   ]
  },
  {
   "cell_type": "code",
   "execution_count": 12,
   "metadata": {},
   "outputs": [
    {
     "data": {
      "image/png": "[encoded data removed]",
      "text/plain": [
       "<Figure size 432x288 with 1 Axes>"
      ]
     },
     "metadata": {
      "needs_background": "light"
     },
     "output_type": "display_data"
    }
   ],
   "source": [
    "#**************************************Viral Vakani***************************************************\n",
    "minutes = np.sort(male.minutes)\n",
    "ecdf = np.zeros(total_minutes)\n",
    "for minute in minutes:\n",
    "  ecdf[minute] += 1 / male.shape[0]\n",
    "for i in range(1, total_minutes):\n",
    "  ecdf[i] += ecdf[i-1]\n",
    "\n",
    "hcdf = np.arange(total_minutes) * (1 / total_minutes)\n",
    "\n",
    "\n",
    "plt.step(np.arange(total_minutes), ecdf, 'b', label='Empirical CDF')\n",
    "plt.step(np.arange(total_minutes), hcdf, 'r', label='Hypothesis CDF')\n",
    "plt.legend()\n",
    "plt.xlabel('Time of day in minutes')\n",
    "plt.ylabel('Probability')\n",
    "plt.title(\"Male\")\n",
    "plt.savefig(\"ECDF_HCDF_Analysis_Male.png\")"
   ]
  },
  {
   "cell_type": "code",
   "execution_count": 22,
   "metadata": {},
   "outputs": [
    {
     "data": {
      "text/plain": [
       "0.09570229656106921"
      ]
     },
     "execution_count": 22,
     "metadata": {},
     "output_type": "execute_result"
    }
   ],
   "source": [
    "#**************************************Viral Vakani***************************************************\n",
    "max_diff = np.max(np.abs(ecdf - hcdf))\n",
    "#**************************************Viral Vakani***************************************************max_diff"
   ]
  },
  {
   "cell_type": "code",
   "execution_count": 14,
   "metadata": {},
   "outputs": [
    {
     "data": {
      "text/plain": [
       "(309389, 31)"
      ]
     },
     "execution_count": 14,
     "metadata": {},
     "output_type": "execute_result"
    }
   ],
   "source": [
    "#Since max diff between Empirical CDF and CDF of hypothesis is greater than 0.09, we can reject the null hypothesis, however it is not less than 0.05 \n",
    "#K Test for Female\n",
    "female = df[df.Gender == 'F']\n",
    "female.shape"
   ]
  },
  {
   "cell_type": "code",
   "execution_count": 15,
   "metadata": {},
   "outputs": [
    {
     "data": {
      "image/png": "[encoded data removed]",
      "text/plain": [
       "<Figure size 432x288 with 1 Axes>"
      ]
     },
     "metadata": {
      "needs_background": "light"
     },
     "output_type": "display_data"
    }
   ],
   "source": [
    "#**************************************Viral Vakani***************************************************\n",
    "minutes = np.sort(female.minutes)\n",
    "ecdf = np.zeros(total_minutes)\n",
    "for minute in minutes:\n",
    "  ecdf[minute] += 1 / female.shape[0]\n",
    "for i in range(1, total_minutes):\n",
    "  ecdf[i] += ecdf[i-1]\n",
    "\n",
    "hcdf = np.arange(total_minutes) * (1 / total_minutes)\n",
    "\n",
    "\n",
    "plt.step(np.arange(total_minutes), ecdf, 'b', label='Empirical CDF')\n",
    "plt.step(np.arange(total_minutes), hcdf, 'r', label='Hypothesis CDF')\n",
    "plt.legend()\n",
    "plt.xlabel('Time of day in minutes')\n",
    "plt.ylabel('Probability')\n",
    "plt.title(\"Female\")\n",
    "plt.savefig(\"ECDF_HCDF_Analysis_Female.png\")"
   ]
  },
  {
   "cell_type": "code",
   "execution_count": 16,
   "metadata": {},
   "outputs": [
    {
     "data": {
      "text/plain": [
       "0.15384945767661742"
      ]
     },
     "execution_count": 16,
     "metadata": {},
     "output_type": "execute_result"
    }
   ],
   "source": [
    "#**************************************Viral Vakani***************************************************\n",
    "max_diff = np.max(np.abs(ecdf - hcdf))\n",
    "max_diff"
   ]
  },
  {
   "cell_type": "code",
   "execution_count": null,
   "metadata": {},
   "outputs": [],
   "source": [
    "#Since max diff between Empirical CDF and CDF of hypothesis is greater than 0.15, we reject the null hypothesis"
   ]
  },
  {
   "cell_type": "code",
   "execution_count": 17,
   "metadata": {},
   "outputs": [
    {
     "data": {
      "text/html": [
       "<div>\n",
       "<style scoped>\n",
       "    .dataframe tbody tr th:only-of-type {\n",
       "        vertical-align: middle;\n",
       "    }\n",
       "\n",
       "    .dataframe tbody tr th {\n",
       "        vertical-align: top;\n",
       "    }\n",
       "\n",
       "    .dataframe thead th {\n",
       "        text-align: right;\n",
       "    }\n",
       "</style>\n",
       "<table border=\"1\" class=\"dataframe\">\n",
       "  <thead>\n",
       "    <tr style=\"text-align: right;\">\n",
       "      <th>Gender</th>\n",
       "      <th>F</th>\n",
       "      <th>M</th>\n",
       "      <th>U</th>\n",
       "    </tr>\n",
       "    <tr>\n",
       "      <th>year</th>\n",
       "      <th></th>\n",
       "      <th></th>\n",
       "      <th></th>\n",
       "    </tr>\n",
       "  </thead>\n",
       "  <tbody>\n",
       "    <tr>\n",
       "      <th>2012</th>\n",
       "      <td>46436</td>\n",
       "      <td>93360</td>\n",
       "      <td>285</td>\n",
       "    </tr>\n",
       "    <tr>\n",
       "      <th>2013</th>\n",
       "      <td>54145</td>\n",
       "      <td>108777</td>\n",
       "      <td>202</td>\n",
       "    </tr>\n",
       "    <tr>\n",
       "      <th>2014</th>\n",
       "      <td>69198</td>\n",
       "      <td>133285</td>\n",
       "      <td>214</td>\n",
       "    </tr>\n",
       "    <tr>\n",
       "      <th>2015</th>\n",
       "      <td>74076</td>\n",
       "      <td>148698</td>\n",
       "      <td>224</td>\n",
       "    </tr>\n",
       "    <tr>\n",
       "      <th>2016</th>\n",
       "      <td>65534</td>\n",
       "      <td>138076</td>\n",
       "      <td>125</td>\n",
       "    </tr>\n",
       "  </tbody>\n",
       "</table>\n",
       "</div>"
      ],
      "text/plain": [
       "Gender      F       M    U\n",
       "year                      \n",
       "2012    46436   93360  285\n",
       "2013    54145  108777  202\n",
       "2014    69198  133285  214\n",
       "2015    74076  148698  224\n",
       "2016    65534  138076  125"
      ]
     },
     "execution_count": 17,
     "metadata": {},
     "output_type": "execute_result"
    }
   ],
   "source": [
    "#**************************************Viral Vakani***************************************************\n",
    "#Gender Analysis\n",
    "temp=df.pivot_table(values='Violation Type', index=df['year'], columns='Gender', aggfunc=np.size)\n",
    "temp"
   ]
  },
  {
   "cell_type": "code",
   "execution_count": 18,
   "metadata": {},
   "outputs": [
    {
     "data": {
      "image/png": "[encoded data removed]",
      "text/plain": [
       "<Figure size 432x288 with 2 Axes>"
      ]
     },
     "metadata": {
      "needs_background": "light"
     },
     "output_type": "display_data"
    }
   ],
   "source": [
    "#**************************************Viral Vakani***************************************************\n",
    "sns.heatmap(temp)\n",
    "plt.savefig(\"GenderAnalysis_Heatmap.png\")\n",
    "plt.show()"
   ]
  },
  {
   "cell_type": "code",
   "execution_count": 19,
   "metadata": {},
   "outputs": [
    {
     "data": {
      "image/png": "[encoded data removed]",
      "text/plain": [
       "<Figure size 432x288 with 1 Axes>"
      ]
     },
     "metadata": {
      "needs_background": "light"
     },
     "output_type": "display_data"
    }
   ],
   "source": [
    "#**************************************Viral Vakani***************************************************\n",
    "#Lets get a clear picture on Gender Analysis\n",
    "df.groupby(['year', 'Gender'])['Violation Type'].count().unstack().plot(marker='o')\n",
    "#plt.xticks('White', 'Black')\n",
    "plt.ylabel('No of Violations')\n",
    "plt.savefig(\"Gender_by_Year.png\")\n",
    "\n",
    "plt.show()"
   ]
  },
  {
   "cell_type": "code",
   "execution_count": 20,
   "metadata": {},
   "outputs": [
    {
     "data": {
      "text/html": [
       "<div>\n",
       "<style scoped>\n",
       "    .dataframe tbody tr th:only-of-type {\n",
       "        vertical-align: middle;\n",
       "    }\n",
       "\n",
       "    .dataframe tbody tr th {\n",
       "        vertical-align: top;\n",
       "    }\n",
       "\n",
       "    .dataframe thead th {\n",
       "        text-align: right;\n",
       "    }\n",
       "</style>\n",
       "<table border=\"1\" class=\"dataframe\">\n",
       "  <thead>\n",
       "    <tr style=\"text-align: right;\">\n",
       "      <th>Race</th>\n",
       "      <th>ASIAN</th>\n",
       "      <th>BLACK</th>\n",
       "      <th>HISPANIC</th>\n",
       "      <th>NATIVE AMERICAN</th>\n",
       "      <th>OTHER</th>\n",
       "      <th>WHITE</th>\n",
       "    </tr>\n",
       "    <tr>\n",
       "      <th>year</th>\n",
       "      <th></th>\n",
       "      <th></th>\n",
       "      <th></th>\n",
       "      <th></th>\n",
       "      <th></th>\n",
       "      <th></th>\n",
       "    </tr>\n",
       "  </thead>\n",
       "  <tbody>\n",
       "    <tr>\n",
       "      <th>2012</th>\n",
       "      <td>8065</td>\n",
       "      <td>42721</td>\n",
       "      <td>24804</td>\n",
       "      <td>29</td>\n",
       "      <td>7141</td>\n",
       "      <td>57321</td>\n",
       "    </tr>\n",
       "    <tr>\n",
       "      <th>2013</th>\n",
       "      <td>9640</td>\n",
       "      <td>51864</td>\n",
       "      <td>31172</td>\n",
       "      <td>333</td>\n",
       "      <td>7812</td>\n",
       "      <td>62303</td>\n",
       "    </tr>\n",
       "    <tr>\n",
       "      <th>2014</th>\n",
       "      <td>12328</td>\n",
       "      <td>60916</td>\n",
       "      <td>40599</td>\n",
       "      <td>866</td>\n",
       "      <td>10747</td>\n",
       "      <td>77241</td>\n",
       "    </tr>\n",
       "    <tr>\n",
       "      <th>2015</th>\n",
       "      <td>13149</td>\n",
       "      <td>69487</td>\n",
       "      <td>48213</td>\n",
       "      <td>662</td>\n",
       "      <td>11723</td>\n",
       "      <td>79764</td>\n",
       "    </tr>\n",
       "    <tr>\n",
       "      <th>2016</th>\n",
       "      <td>11810</td>\n",
       "      <td>66359</td>\n",
       "      <td>47177</td>\n",
       "      <td>456</td>\n",
       "      <td>11453</td>\n",
       "      <td>66480</td>\n",
       "    </tr>\n",
       "  </tbody>\n",
       "</table>\n",
       "</div>"
      ],
      "text/plain": [
       "Race  ASIAN  BLACK  HISPANIC  NATIVE AMERICAN  OTHER  WHITE\n",
       "year                                                       \n",
       "2012   8065  42721     24804               29   7141  57321\n",
       "2013   9640  51864     31172              333   7812  62303\n",
       "2014  12328  60916     40599              866  10747  77241\n",
       "2015  13149  69487     48213              662  11723  79764\n",
       "2016  11810  66359     47177              456  11453  66480"
      ]
     },
     "execution_count": 20,
     "metadata": {},
     "output_type": "execute_result"
    }
   ],
   "source": [
    "#**************************************Viral Vakani***************************************************\n",
    "#Race Analysis\n",
    "temp2=df.pivot_table(values='Violation Type', index=df['year'], columns='Race', aggfunc=np.size)\n",
    "temp2\n"
   ]
  },
  {
   "cell_type": "code",
   "execution_count": 21,
   "metadata": {},
   "outputs": [
    {
     "data": {
      "image/png": "[encoded data removed]",
      "text/plain": [
       "<Figure size 432x288 with 2 Axes>"
      ]
     },
     "metadata": {
      "needs_background": "light"
     },
     "output_type": "display_data"
    }
   ],
   "source": [
    "#**************************************Viral Vakani***************************************************\n",
    "sns.heatmap(temp2, cmap=\"YlGnBu\")\n",
    "plt.savefig(\"RaceAnalysis_Heatmap.png\")\n",
    "plt.show()"
   ]
  },
  {
   "cell_type": "code",
   "execution_count": 22,
   "metadata": {},
   "outputs": [
    {
     "data": {
      "image/png": "[encoded data removed]",
      "text/plain": [
       "<Figure size 432x288 with 1 Axes>"
      ]
     },
     "metadata": {
      "needs_background": "light"
     },
     "output_type": "display_data"
    }
   ],
   "source": [
    "#**************************************Viral Vakani***************************************************\n",
    "#Lets get a clear picture on Gender Analysis\n",
    "df.groupby(['year', 'Race'])['Violation Type'].count().unstack().plot(marker='o')\n",
    "plt.ylabel('No of Violations')\n",
    "plt.savefig(\"Race_by_Year.png\")\n",
    "plt.show()"
   ]
  }
 ],
 "metadata": {
  "kernelspec": {
   "display_name": "Python 3",
   "language": "python",
   "name": "python3"
  },
  "language_info": {
   "codemirror_mode": {
    "name": "ipython",
    "version": 3
   },
   "file_extension": ".py",
   "mimetype": "text/x-python",
   "name": "python",
   "nbconvert_exporter": "python",
   "pygments_lexer": "ipython3",
   "version": "3.7.1"
  }
 },
 "nbformat": 4,
 "nbformat_minor": 2
}
